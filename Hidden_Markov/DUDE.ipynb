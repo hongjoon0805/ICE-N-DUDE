{
 "cells": [
  {
   "cell_type": "code",
   "execution_count": 1,
   "metadata": {},
   "outputs": [
    {
     "name": "stderr",
     "output_type": "stream",
     "text": [
      "Using TensorFlow backend.\n"
     ]
    }
   ],
   "source": [
    "import numpy as np\n",
    "from numpy import *\n",
    "from tools import *\n",
    "\n",
    "import sys\n",
    "import argparse"
   ]
  },
  {
   "cell_type": "code",
   "execution_count": 2,
   "metadata": {},
   "outputs": [
    {
     "name": "stderr",
     "output_type": "stream",
     "text": [
      "usage: ipykernel_launcher.py [-h] [--t T] [--x X] [--k K]\n",
      "ipykernel_launcher.py: error: unrecognized arguments: -f /run/user/1002/jupyter/kernel-515c7e7b-51ea-4ba1-8eb3-71350c420fab.json\n"
     ]
    }
   ],
   "source": [
    "try:\n",
    "    parser = argparse.ArgumentParser()\n",
    "    \n",
    "    parser.add_argument(\"--t\", help=\"PI type\", type=int)\n",
    "    parser.add_argument(\"--x\", help=\"the number of x classes\", type=int)\n",
    "    parser.add_argument(\"--k\", help=\"window size k\", type=int)\n",
    "    \n",
    "    args = parser.parse_args()\n",
    "    \n",
    "    result_name = sys.argv[0]\n",
    "    type_num = args.t\n",
    "    nb_x_classes = args.x\n",
    "    nb_z_classes = nb_x_classes\n",
    "    k = args.k\n",
    "    n = int(1e6)\n",
    "    \n",
    "except:\n",
    "    result_name = \"test\"\n",
    "    type_num = 1\n",
    "    nb_x_classes = 4\n",
    "    nb_z_classes = nb_x_classes\n",
    "    n = int(1e6)\n",
    "    k = 16\n",
    "PI_type_arr = ['20%', '30%']\n",
    "delta_arr = [0.2, 0.3]"
   ]
  },
  {
   "cell_type": "code",
   "execution_count": 3,
   "metadata": {},
   "outputs": [
    {
     "name": "stdout",
     "output_type": "stream",
     "text": [
      "[[0.7 0.1 0.1 0.1]\n",
      " [0.1 0.7 0.1 0.1]\n",
      " [0.1 0.1 0.7 0.1]\n",
      " [0.1 0.1 0.1 0.7]]\n",
      "[0 0 3 3 3 2 3 3 3 3 3 3 3 3 3 3 3 3 3 2]\n",
      "[2 0 2 2 3 2 3 3 3 3 3 3 3 3 1 3 3 3 3 2]\n",
      "0.300022\n"
     ]
    }
   ],
   "source": [
    "PI_type = PI_type_arr[type_num]\n",
    "PI = sym_mat(nb_x_classes, delta_arr[type_num])\n",
    "TRANS = sym_mat(nb_x_classes, 0.1)\n",
    "\n",
    "print(PI)\n",
    "\n",
    "f = open('results/' + '%d_'%nb_x_classes + PI_type + '_' + result_name,'a')\n",
    "\n",
    "x, z = Hidden_Markov(n, TRANS, PI)\n",
    "\n",
    "print(x[:20])\n",
    "print(z[:20])\n",
    "\n",
    "raw_error = error_rate(x,z)\n",
    "\n",
    "print(raw_error)\n"
   ]
  },
  {
   "cell_type": "code",
   "execution_count": 4,
   "metadata": {},
   "outputs": [
    {
     "name": "stdout",
     "output_type": "stream",
     "text": [
      "16 1.00000\n",
      "\n"
     ]
    }
   ],
   "source": [
    "x_hat = dude(z, k, nb_x_classes, nb_z_classes, PI)\n",
    "error = normalized_error_rate(x, x_hat, raw_error)\n",
    "f.write('%d %.5f\\n'%(k, error))\n",
    "print('%d %.5f\\n'%(k, error))"
   ]
  }
 ],
 "metadata": {
  "kernelspec": {
   "display_name": "Python 3",
   "language": "python",
   "name": "python3"
  },
  "language_info": {
   "codemirror_mode": {
    "name": "ipython",
    "version": 3
   },
   "file_extension": ".py",
   "mimetype": "text/x-python",
   "name": "python",
   "nbconvert_exporter": "python",
   "pygments_lexer": "ipython3",
   "version": "3.6.7"
  }
 },
 "nbformat": 4,
 "nbformat_minor": 2
}
