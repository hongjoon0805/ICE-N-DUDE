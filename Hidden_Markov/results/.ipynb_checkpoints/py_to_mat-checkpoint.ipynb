{
 "cells": [
  {
   "cell_type": "code",
   "execution_count": 1,
   "metadata": {},
   "outputs": [],
   "source": [
    "import numpy as np\n",
    "import sys\n",
    "import scipy.io as sio"
   ]
  },
  {
   "cell_type": "code",
   "execution_count": 2,
   "metadata": {},
   "outputs": [],
   "source": [
    "def py_to_mat(nb_x_classes, PI_type):\n",
    "    \n",
    "    results_dict = {}\n",
    "    process_name_arr = ['FB_Recursion.py', 'DUDE.py', 'NDUDE.py', 'ICE_N_DUDE.py']\n",
    "    \n",
    "    for p in range(4):\n",
    "        process_name = '%d_'%(nb_x_classes) + PI_type + '_' + process_name_arr[p]\n",
    "        \n",
    "        if p == 0:\n",
    "            results = None\n",
    "            with open(process_name, 'r') as f:\n",
    "                data = f.read().splitlines()\n",
    "                arr = data[0].split()\n",
    "                error = float(arr[0])\n",
    "                results = error * np.ones(11)\n",
    "        \n",
    "        elif p < 3:\n",
    "            results = np.zeros(11)\n",
    "            with open(process_name, 'r') as f:\n",
    "                data = f.read().splitlines()\n",
    "                for i in range(len(data)):\n",
    "                    arr = data[i].split()\n",
    "                    k, error = int(arr[0]), float(arr[1])\n",
    "                    results[k//2-1] = error\n",
    "            \n",
    "        else:\n",
    "            results = [np.zeros(11), np.zeros(11), np.zeros(11), np.zeros(11)]\n",
    "            with open(process_name, 'r') as f:\n",
    "                data = f.read().splitlines()\n",
    "                for i in range(len(data)):\n",
    "                    arr = data[i].split()\n",
    "                    k, delta, error = int(arr[0]), float(arr[1]), float(arr[2])\n",
    "                    results[int(delta*10)-1][k//2-1] = error\n",
    "            for i in range(4):\n",
    "                for j in range(11):\n",
    "                    if results[i][j] == 0:\n",
    "                        print('python3 ICE_N_DUDE.py --t 1 --x %d --k %d --d %.2f &'%(nb_x_classes, (j+1)*2, (i+1)*0.1))\n",
    "            \n",
    "        results_dict[process_name_arr[p]] = results\n",
    "    \n",
    "    file = '%d_'%(nb_x_classes) + PI_type + '_' + 'HMM.mat'\n",
    "    sio.savemat(file, results_dict)\n",
    "    return results_dict"
   ]
  },
  {
   "cell_type": "code",
   "execution_count": 3,
   "metadata": {},
   "outputs": [
    {
     "name": "stdout",
     "output_type": "stream",
     "text": [
      "python3 ICE_N_DUDE.py --t 1 --x 2 --k 6 --d 0.10 &\n",
      "python3 ICE_N_DUDE.py --t 1 --x 2 --k 14 --d 0.10 &\n",
      "python3 ICE_N_DUDE.py --t 1 --x 2 --k 14 --d 0.20 &\n",
      "python3 ICE_N_DUDE.py --t 1 --x 2 --k 16 --d 0.20 &\n",
      "python3 ICE_N_DUDE.py --t 1 --x 2 --k 12 --d 0.30 &\n",
      "python3 ICE_N_DUDE.py --t 1 --x 2 --k 20 --d 0.30 &\n",
      "python3 ICE_N_DUDE.py --t 1 --x 3 --k 18 --d 0.20 &\n",
      "python3 ICE_N_DUDE.py --t 1 --x 3 --k 14 --d 0.30 &\n"
     ]
    }
   ],
   "source": [
    "PI_type_arr = ['30%']\n",
    "nb_x_classes_arr = [2,3,4,5,6]\n",
    "\n",
    "for PI_type in PI_type_arr:\n",
    "    for nb_x_classes in nb_x_classes_arr:\n",
    "        py_to_mat(nb_x_classes, PI_type)\n",
    "        "
   ]
  }
 ],
 "metadata": {
  "kernelspec": {
   "display_name": "Python 3",
   "language": "python",
   "name": "python3"
  },
  "language_info": {
   "codemirror_mode": {
    "name": "ipython",
    "version": 3
   },
   "file_extension": ".py",
   "mimetype": "text/x-python",
   "name": "python",
   "nbconvert_exporter": "python",
   "pygments_lexer": "ipython3",
   "version": "3.6.7"
  }
 },
 "nbformat": 4,
 "nbformat_minor": 2
}
