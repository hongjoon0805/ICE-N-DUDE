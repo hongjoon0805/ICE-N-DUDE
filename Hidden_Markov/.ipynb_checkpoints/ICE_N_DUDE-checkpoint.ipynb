{
 "cells": [
  {
   "cell_type": "code",
   "execution_count": null,
   "metadata": {},
   "outputs": [],
   "source": [
    "from core import *\n",
    "from tools import *\n",
    "import numpy as np\n",
    "from numpy import *\n",
    "import os\n",
    "import tensorflow as tf\n",
    "import keras as K\n",
    "\n",
    "import sys\n",
    "import argparse"
   ]
  },
  {
   "cell_type": "code",
   "execution_count": null,
   "metadata": {},
   "outputs": [],
   "source": [
    "try:\n",
    "    parser = argparse.ArgumentParser()\n",
    "    \n",
    "    parser.add_argument(\"--t\", help=\"PI type\", type=int)\n",
    "    parser.add_argument(\"--x\", help=\"the number of x classes\", type=int)\n",
    "    parser.add_argument(\"--k\", help=\"window size k\", type=int)\n",
    "    parser.add_argument(\"--d\", help=\"assumed_delta\", type=float)\n",
    "    \n",
    "    args = parser.parse_args()\n",
    "    \n",
    "    result_name = sys.argv[0]\n",
    "    type_num = args.t\n",
    "    nb_x_classes = args.x\n",
    "    nb_z_classes = nb_x_classes\n",
    "    k = args.k\n",
    "    assumed_delta = args.d\n",
    "    n = int(1e6)\n",
    "    \n",
    "except:\n",
    "    result_name = \"test\"\n",
    "    type_num = 1\n",
    "    nb_x_classes = 4\n",
    "    nb_z_classes = nb_x_classes\n",
    "    assumed_delta = 0.4\n",
    "    n = int(1e6)\n",
    "    k = 16\n",
    "PI_type_arr = ['20%', '30%']\n",
    "delta_arr = [0.2, 0.3]"
   ]
  },
  {
   "cell_type": "code",
   "execution_count": null,
   "metadata": {},
   "outputs": [],
   "source": [
    "os.environ[\"CUDA_DEVICE_ORDER\"]=\"PCI_BUS_ID\"\n",
    "os.environ[\"CUDA_VISIBLE_DEVICES\"]='0, 1, 2, 3'\n",
    "\n",
    "config = tf.ConfigProto()\n",
    "config.gpu_options.allow_growth = True\n",
    "session = tf.Session(config=config)\n",
    "K.backend.set_session(session)"
   ]
  },
  {
   "cell_type": "code",
   "execution_count": null,
   "metadata": {},
   "outputs": [],
   "source": [
    "PI_type = PI_type_arr[type_num]\n",
    "PI = sym_mat(nb_x_classes, delta_arr[type_num])\n",
    "assumed_PI = sym_mat(nb_x_classes, assumed_delta)\n",
    "TRANS = sym_mat(nb_x_classes, 0.1)\n",
    "\n",
    "\n",
    "print(PI)\n",
    "print(assumed_PI)\n",
    "\n",
    "f = open('results/' + '%d_'%nb_x_classes + PI_type + '_' + result_name,'a')\n",
    "\n",
    "param_name = \"ICE_%d_%.2f_%d\"%(nb_x_classes, assumed_delta, type_num)\n",
    "\n",
    "x, z = Hidden_Markov(n, TRANS, PI)\n",
    "\n",
    "print(x[:20])\n",
    "print(z[:20])\n",
    "\n",
    "print(error_rate(x,z))"
   ]
  },
  {
   "cell_type": "code",
   "execution_count": null,
   "metadata": {},
   "outputs": [],
   "source": [
    "# Parameter Estimation Process\n",
    "ICE_N_DUDE = ICE_Process(n, k, nb_x_classes, nb_z_classes, x, z, param_name = param_name)\n",
    "Estimated_PI = ICE_N_DUDE.ICE(assumed_PI)\n",
    "print(Estimated_PI)\n",
    "\n",
    "# State Estimation Process\n",
    "SE = State_Estimation_Process(n, k, nb_x_classes, nb_z_classes, x, z, param_name = param_name)\n",
    "error, x_hat = SE.N_DUDE(Estimated_PI)\n",
    "f.write(\"%d %.2f %.5f\\n\"%(k, assumed_delta, error))\n",
    "print('%d %.2f %.5f'%(k, assumed_delta, error))"
   ]
  }
 ],
 "metadata": {
  "kernelspec": {
   "display_name": "Python 3",
   "language": "python",
   "name": "python3"
  },
  "language_info": {
   "codemirror_mode": {
    "name": "ipython",
    "version": 3
   },
   "file_extension": ".py",
   "mimetype": "text/x-python",
   "name": "python",
   "nbconvert_exporter": "python",
   "pygments_lexer": "ipython3",
   "version": "3.6.7"
  }
 },
 "nbformat": 4,
 "nbformat_minor": 2
}
