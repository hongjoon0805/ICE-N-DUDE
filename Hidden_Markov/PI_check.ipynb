{
 "cells": [
  {
   "cell_type": "code",
   "execution_count": 1,
   "metadata": {},
   "outputs": [],
   "source": [
    "import numpy as np\n",
    "from numpy import *\n",
    "import h5py\n",
    "import scipy.io as sio\n",
    "from numpy import linalg as LA"
   ]
  },
  {
   "cell_type": "code",
   "execution_count": 2,
   "metadata": {},
   "outputs": [],
   "source": [
    "def load_PI(name):\n",
    "    hdf5_path = 'PI/'+name+'.hdf5'\n",
    "    hdf5_file = h5py.File(hdf5_path, mode='r')\n",
    "    PI = hdf5_file[name][...]\n",
    "    hdf5_file.close()\n",
    "    return PI"
   ]
  },
  {
   "cell_type": "code",
   "execution_count": 3,
   "metadata": {},
   "outputs": [],
   "source": [
    "def sym_mat(states, prob):\n",
    "    x = ones((states,states)) * (prob/(states-1))\n",
    "    for i in range(states):\n",
    "        x[i][i] = 1 - (states-1)*x[i][i]\n",
    "    return x"
   ]
  },
  {
   "cell_type": "code",
   "execution_count": 4,
   "metadata": {},
   "outputs": [],
   "source": [
    "L1_norm = [[],[],[]]\n",
    "delta_arr = [0.1,0.2,0.3]\n",
    "for i in range(3):\n",
    "    delta = delta_arr[i]\n",
    "    PI_true = sym_mat(2, 0.3)\n",
    "    param_name = \"ICE_%d_%.2f_%d\"%(2, delta, 1)\n",
    "    for t in range(10):\n",
    "        PI = load_PI(param_name + '_%d'%(t-1))\n",
    "        L1_norm[i].append(LA.norm(np.abs(PI-PI_true)) / (4))"
   ]
  },
  {
   "cell_type": "code",
   "execution_count": 5,
   "metadata": {},
   "outputs": [
    {
     "name": "stdout",
     "output_type": "stream",
     "text": [
      "[0.020291347028801313, 0.004041024626587441, 0.0015893510597157628, 0.001207420340293196, 0.0012379321357547123, 0.0016380932253257663, 0.000946786434354379, 0.0018450571150479488, 0.001733981789481851, 0.0012771734336682787]\n",
      "[0.009428037466650675, 0.002554677674172227, 0.0005983772916262337, 0.00022688685042337295, 0.0007402119558487407, 0.0009190808359110361, 0.0011028050127206755, 0.0020018856136876395, 0.0013889391460027076, 0.0011522180626557074]\n",
      "[0.0013944851629257727, 0.001530219671105957, 0.0005505388550603196, 0.0006401990762598735, 0.001608977875549333, 0.0014398964571436885, 0.0012984329529780194, 0.0012821995678729957, 0.0016945410469805433, 0.0010003541407686601]\n"
     ]
    }
   ],
   "source": [
    "print(L1_norm[0])\n",
    "print(L1_norm[1])\n",
    "print(L1_norm[2])\n"
   ]
  }
 ],
 "metadata": {
  "kernelspec": {
   "display_name": "Python 3",
   "language": "python",
   "name": "python3"
  },
  "language_info": {
   "codemirror_mode": {
    "name": "ipython",
    "version": 3
   },
   "file_extension": ".py",
   "mimetype": "text/x-python",
   "name": "python",
   "nbconvert_exporter": "python",
   "pygments_lexer": "ipython3",
   "version": "3.6.7"
  }
 },
 "nbformat": 4,
 "nbformat_minor": 2
}
