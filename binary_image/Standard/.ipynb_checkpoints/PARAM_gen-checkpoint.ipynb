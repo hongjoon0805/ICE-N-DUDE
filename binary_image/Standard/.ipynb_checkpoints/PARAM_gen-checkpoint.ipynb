{
 "cells": [
  {
   "cell_type": "code",
   "execution_count": 1,
   "metadata": {},
   "outputs": [],
   "source": [
    "import numpy as np\n",
    "from numpy import *\n",
    "import scipy.io as sio"
   ]
  },
  {
   "cell_type": "code",
   "execution_count": 2,
   "metadata": {},
   "outputs": [],
   "source": [
    "def sym_mat(states, prob):\n",
    "    x = ones((states,states)) * (prob/(states-1))\n",
    "    for i in range(states):\n",
    "        x[i][i] = 1 - (states-1)*x[i][i]\n",
    "    return x\n",
    "\n",
    "def trans_mat(nb_x_classes, alpha_arr):\n",
    "    TRANS = np.zeros((nb_x_classes * nb_x_classes, nb_x_classes * nb_x_classes))\n",
    "    mat_arr = []\n",
    "    for i in range(nb_x_classes*(nb_x_classes-1)):\n",
    "        alpha = alpha_arr[i%nb_x_classes]\n",
    "        mat = sym_mat(nb_x_classes, alpha)\n",
    "        mat_arr.append(mat)\n",
    "    mat_arr.append(sym_mat(nb_x_classes, alpha_arr[0]))\n",
    "    mat_idx = 0\n",
    "    for i in range(nb_x_classes * nb_x_classes):\n",
    "        idx = (i%nb_x_classes)*nb_x_classes\n",
    "        TRANS[i][idx:idx+nb_x_classes] = mat_arr[i-mat_idx][i%nb_x_classes]\n",
    "        if i%nb_x_classes == (nb_x_classes-1):\n",
    "            mat_idx += 1\n",
    "    return TRANS"
   ]
  },
  {
   "cell_type": "code",
   "execution_count": 3,
   "metadata": {},
   "outputs": [],
   "source": [
    "TRANS_dict = {}\n",
    "\n",
    "TRANS = np.array([[0.8, 0.2],\n",
    "                  [0.3, 0.7]])\n",
    "TRANS_dict['2_1'] = TRANS\n",
    "\n",
    "TRANS = np.array([[0.8,0.2,0,0],\n",
    "                  [0,0,0.2,0.8],\n",
    "                  [0.7,0.3,0,0],\n",
    "                  [0,0,0.3,0.7]])\n",
    "TRANS_dict['2_2'] = TRANS\n",
    "\n",
    "TRANS = np.array([[0.9,0.1,0,0,0,0,0,0],\n",
    "                  [0,0,0.1,0.9,0,0,0,0],\n",
    "                  [0,0,0,0,0.8,0.2,0,0],\n",
    "                  [0,0,0,0,0,0,0.2,0.8],\n",
    "                  [0.7,0.3,0,0,0,0,0,0],\n",
    "                  [0,0,0.3,0.7,0,0,0,0],\n",
    "                  [0,0,0,0,0.6,0.4,0,0],\n",
    "                  [0,0,0,0,0,0,0.4,0.6]])\n",
    "TRANS_dict['2_3'] = TRANS\n",
    "\n",
    "\n",
    "sio.savemat('PARAM/assumed_TRANS.mat',TRANS_dict)"
   ]
  },
  {
   "cell_type": "code",
   "execution_count": 4,
   "metadata": {},
   "outputs": [],
   "source": [
    "# error rate = 20%\n",
    "PI_dict = {}\n",
    "\n",
    "PI = np.array([[0.83, 0.17],\n",
    "               [0.23, 0.77]])\n",
    "PI_dict['2_1_0'] = PI\n",
    "\n",
    "# error rate = 30%\n",
    "\n",
    "PI = np.array([[0.72, 0.28],\n",
    "               [0.33, 0.67]])\n",
    "PI_dict['2_1_1'] = PI\n",
    "\n",
    "# error rate = 10%\n",
    "PI = np.array([[0.88, 0.12],\n",
    "               [0.09, 0.91]])\n",
    "PI_dict['2_1_2'] = PI\n",
    "\n",
    "sio.savemat('PARAM/true_PI.mat',PI_dict)"
   ]
  },
  {
   "cell_type": "code",
   "execution_count": 5,
   "metadata": {},
   "outputs": [],
   "source": [
    "assumed_PI_dict = {}\n",
    "\n",
    "PI = np.array([[0.9, 0.1],\n",
    "               [0.1, 0.9]])\n",
    "\n",
    "assumed_PI_dict['2_1_0'] = PI\n",
    "assumed_PI_dict['2_1_1'] = PI\n",
    "assumed_PI_dict['2_1_2'] = PI\n",
    "\n",
    "PI = np.array([[0.9, 0.1],\n",
    "               [0.1, 0.9],\n",
    "               [0.9, 0.1],\n",
    "               [0.1, 0.9]])\n",
    "\n",
    "assumed_PI_dict['2_2_0'] = PI\n",
    "assumed_PI_dict['2_2_1'] = PI\n",
    "assumed_PI_dict['2_2_2'] = PI\n",
    "\n",
    "PI = np.array([[0.9, 0.1],\n",
    "               [0.1, 0.9],\n",
    "               [0.9, 0.1],\n",
    "               [0.1, 0.9],\n",
    "               [0.9, 0.1],\n",
    "               [0.1, 0.9],\n",
    "               [0.9, 0.1],\n",
    "               [0.1, 0.9]])\n",
    "\n",
    "assumed_PI_dict['2_3_0'] = PI\n",
    "assumed_PI_dict['2_3_1'] = PI\n",
    "assumed_PI_dict['2_3_2'] = PI\n",
    "\n",
    "sio.savemat('PARAM/assumed_PI.mat',assumed_PI_dict)\n"
   ]
  }
 ],
 "metadata": {
  "kernelspec": {
   "display_name": "Python 3",
   "language": "python",
   "name": "python3"
  },
  "language_info": {
   "codemirror_mode": {
    "name": "ipython",
    "version": 3
   },
   "file_extension": ".py",
   "mimetype": "text/x-python",
   "name": "python",
   "nbconvert_exporter": "python",
   "pygments_lexer": "ipython3",
   "version": "3.6.7"
  }
 },
 "nbformat": 4,
 "nbformat_minor": 2
}
