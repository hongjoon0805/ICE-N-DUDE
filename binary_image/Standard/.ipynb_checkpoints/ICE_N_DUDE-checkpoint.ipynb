{
 "cells": [
  {
   "cell_type": "code",
   "execution_count": null,
   "metadata": {},
   "outputs": [],
   "source": [
    "from core import *\n",
    "from tools import *\n",
    "import numpy as np\n",
    "from numpy import *\n",
    "import os\n",
    "import tensorflow as tf\n",
    "import keras as K\n",
    "\n",
    "import sys\n",
    "import argparse"
   ]
  },
  {
   "cell_type": "code",
   "execution_count": null,
   "metadata": {},
   "outputs": [],
   "source": [
    "img_arr = ['barbara_512.png', 'boat_512.png', 'cman_256.png', 'couple_512.png', 'Einstein_256.jpeg', 'fruit_256.bmp', 'lena_512.jpg', 'pepers_256.png']\n",
    "\n",
    "try:\n",
    "    parser = argparse.ArgumentParser()\n",
    "    \n",
    "    parser.add_argument(\"--t\", help=\"PI type\", type=int)\n",
    "    \n",
    "    args = parser.parse_args()\n",
    "    \n",
    "    result_name = sys.argv[0]\n",
    "    type_num = args.t\n",
    "    nb_x_classes = 2\n",
    "    nb_z_classes = nb_x_classes\n",
    "    k = 50\n",
    "    \n",
    "except:\n",
    "    result_name = \"test\"\n",
    "    type_num = 1\n",
    "    nb_x_classes = 8\n",
    "    nb_z_classes = nb_x_classes\n",
    "    assumed_delta = 0.4\n",
    "    k = 50\n",
    "PI_type_arr = ['20%', '30%', '10%']"
   ]
  },
  {
   "cell_type": "code",
   "execution_count": null,
   "metadata": {},
   "outputs": [],
   "source": [
    "os.environ[\"CUDA_DEVICE_ORDER\"]=\"PCI_BUS_ID\"\n",
    "os.environ[\"CUDA_VISIBLE_DEVICES\"]='0, 1, 2, 3'\n",
    "\n",
    "config = tf.ConfigProto()\n",
    "config.gpu_options.allow_growth = True\n",
    "session = tf.Session(config=config)\n",
    "K.backend.set_session(session)"
   ]
  },
  {
   "cell_type": "code",
   "execution_count": null,
   "metadata": {},
   "outputs": [],
   "source": [
    "PI_type = PI_type_arr[type_num]\n",
    "PI = load_channel('true', nb_x_classes, 1, type_num)\n",
    "assumed_PI = load_channel('assumed', nb_x_classes, 1, type_num)\n",
    "\n",
    "print(PI)\n",
    "print(assumed_PI)\n",
    "\n",
    "\n",
    "x,z = load_img(PI, img_arr)\n",
    "\n",
    "x, z = load_img(PI, img_arr[:10])\n",
    "\n",
    "param_name = \"ICE_%d_%d\"%(nb_x_classes, type_num)\n",
    "\n",
    "n = len(x)\n",
    "\n",
    "print(x[:20])\n",
    "print(z[:20])\n",
    "\n",
    "print(n)\n",
    "\n",
    "print(error_rate(x,z))"
   ]
  },
  {
   "cell_type": "code",
   "execution_count": null,
   "metadata": {},
   "outputs": [],
   "source": [
    "# Parameter Estimation Process\n",
    "ICE_N_DUDE = ICE_Process(n, k, nb_x_classes, nb_z_classes, x, z, param_name = param_name)\n",
    "Estimated_PI = ICE_N_DUDE.ICE(assumed_PI)\n",
    "print(Estimated_PI)"
   ]
  }
 ],
 "metadata": {
  "kernelspec": {
   "display_name": "Python 3",
   "language": "python",
   "name": "python3"
  },
  "language_info": {
   "codemirror_mode": {
    "name": "ipython",
    "version": 3
   },
   "file_extension": ".py",
   "mimetype": "text/x-python",
   "name": "python",
   "nbconvert_exporter": "python",
   "pygments_lexer": "ipython3",
   "version": "3.6.7"
  }
 },
 "nbformat": 4,
 "nbformat_minor": 2
}
