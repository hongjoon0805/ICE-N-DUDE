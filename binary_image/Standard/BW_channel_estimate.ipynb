{
 "cells": [
  {
   "cell_type": "code",
   "execution_count": null,
   "metadata": {},
   "outputs": [],
   "source": [
    "from core import *\n",
    "from tools import *\n",
    "import numpy as np\n",
    "from numpy import *\n",
    "import os\n",
    "import tensorflow as tf\n",
    "import keras as K\n",
    "\n",
    "import sys\n",
    "import argparse"
   ]
  },
  {
   "cell_type": "code",
   "execution_count": null,
   "metadata": {},
   "outputs": [],
   "source": [
    "img_arr = ['barbara_512.png', 'boat_512.png', 'cman_256.png', 'couple_512.png', 'Einstein_256.jpeg', 'fruit_256.bmp', 'lena_512.jpg', 'pepers_256.png']\n",
    "\n",
    "try:\n",
    "    parser = argparse.ArgumentParser()\n",
    "    \n",
    "    parser.add_argument(\"--t\", help=\"PI type\", type=int)\n",
    "    parser.add_argument(\"--o\", help=\"Markov chain order\", type=int)\n",
    "    \n",
    "    args = parser.parse_args()\n",
    "    \n",
    "    result_name = sys.argv[0]\n",
    "    type_num = args.t\n",
    "    order = args.o\n",
    "    nb_x_classes = 2\n",
    "    nb_z_classes = nb_x_classes\n",
    "    \n",
    "    \n",
    "except:\n",
    "    result_name = \"test\"\n",
    "    type_num = 1\n",
    "    nb_x_classes = 2\n",
    "    nb_z_classes = nb_x_classes\n",
    "    img_num = 0\n",
    "    order = 3\n",
    "PI_type_arr = ['20%', '30%', '10%']"
   ]
  },
  {
   "cell_type": "code",
   "execution_count": null,
   "metadata": {},
   "outputs": [],
   "source": [
    "PI_type = PI_type_arr[type_num]\n",
    "\n",
    "PI = load_channel('true', nb_x_classes, 1, type_num)\n",
    "assumed_PI = load_channel('assumed', nb_x_classes, order, type_num)\n",
    "assumed_TRANS = load_TRANS('assumed', nb_x_classes, order)\n",
    "\n",
    "\n",
    "f = open('results/' + '%d_%s'%(nb_x_classes, PI_type) + '_' + result_name,'a')\n",
    "\n",
    "param_name = \"BW_%d_%d_%d\"%(nb_x_classes, order, type_num)\n",
    "\n",
    "x,z = load_img(PI, img_arr)\n",
    "n = len(x)\n",
    "\n",
    "print(PI)\n",
    "print(x[:20])\n",
    "print(z[:20])\n",
    "print(n)\n",
    "\n",
    "x_conv = convert_sequence(x, order, nb_x_classes)\n",
    "\n",
    "raw_error = error_rate(x,z)\n",
    "\n",
    "print(raw_error)\n",
    "\n",
    "print(x_conv[:20])\n",
    "print(z[:20])"
   ]
  },
  {
   "cell_type": "code",
   "execution_count": null,
   "metadata": {},
   "outputs": [],
   "source": [
    "if order == 1:\n",
    "    BW_ = BW(n, x_conv, z, param_name)\n",
    "    a, Estimated_PI, gamma = BW_.Baum_Welch(assumed_TRANS, assumed_PI)\n",
    "    print(Estimated_PI)\n",
    "elif order == 2:\n",
    "    BW_ = BW_2nd_channel(n, x_conv, z, param_name)\n",
    "    a, Estimated_PI, gamma = BW_.Baum_Welch(assumed_TRANS, assumed_PI)\n",
    "    print(Estimated_PI)\n",
    "elif order == 3:\n",
    "    BW_ = BW_3rd_channel(n, x_conv, z, param_name)\n",
    "    a, Estimated_PI, gamma = BW_.Baum_Welch(assumed_TRANS, assumed_PI)\n",
    "    print(Estimated_PI)"
   ]
  }
 ],
 "metadata": {
  "kernelspec": {
   "display_name": "Python 3",
   "language": "python",
   "name": "python3"
  },
  "language_info": {
   "codemirror_mode": {
    "name": "ipython",
    "version": 3
   },
   "file_extension": ".py",
   "mimetype": "text/x-python",
   "name": "python",
   "nbconvert_exporter": "python",
   "pygments_lexer": "ipython3",
   "version": "3.6.7"
  }
 },
 "nbformat": 4,
 "nbformat_minor": 2
}
