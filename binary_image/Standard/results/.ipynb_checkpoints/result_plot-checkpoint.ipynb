{
 "cells": [
  {
   "cell_type": "code",
   "execution_count": 1,
   "metadata": {},
   "outputs": [],
   "source": [
    "import numpy as np\n",
    "import scipy.io as sio\n",
    "import matplotlib.pyplot as plt\n",
    "%matplotlib inline"
   ]
  },
  {
   "cell_type": "code",
   "execution_count": 2,
   "metadata": {},
   "outputs": [
    {
     "data": {
      "text/plain": [
       "<Figure size 432x288 with 0 Axes>"
      ]
     },
     "metadata": {},
     "output_type": "display_data"
    },
    {
     "data": {
      "text/plain": [
       "<Figure size 432x288 with 0 Axes>"
      ]
     },
     "metadata": {},
     "output_type": "display_data"
    }
   ],
   "source": [
    "PI_type_arr = ['20%', '30%', '10%']\n",
    "nb_x_classes_arr = [2]\n",
    "assumed_delta_arr = [0.1]\n",
    "process_name_arr = ['BW.py', 'NDUDE.py', 'NDUDE_finetuning.py']\n",
    "value = [[],[],[]]\n",
    "results = [np.zeros(5), np.zeros(5)]\n",
    "\n",
    "for i in range(3):\n",
    "    PI_type = PI_type_arr[i]\n",
    "    for nb_x_classes in nb_x_classes_arr:\n",
    "        for assumed_delta in assumed_delta_arr:\n",
    "            \n",
    "            plt.figure()\n",
    "            \n",
    "            file = '%d_%s_%.2f'%(nb_x_classes, PI_type, assumed_delta) + 'quantized.py'\n",
    "\n",
    "            BW_1st = sio.loadmat(file)[process_name_arr[0]][0]\n",
    "            BW_2nd = sio.loadmat(file)[process_name_arr[0]][1]\n",
    "            BW_3rd = sio.loadmat(file)[process_name_arr[0]][2]\n",
    "            N_DUDE = sio.loadmat(file)[process_name_arr[1]][0]\n",
    "            ICE_N_DUDE = sio.loadmat(file)[process_name_arr[2]][0]\n",
    "            \n",
    "            value[i].append(np.mean(BW_1st))\n",
    "            value[i].append(np.mean(BW_2nd))\n",
    "            value[i].append(np.mean(BW_3rd))\n",
    "            value[i].append(np.mean(N_DUDE))\n",
    "            value[i].append(np.mean(ICE_N_DUDE))\n",
    "        \n",
    "        \"\"\"\n",
    "        plt.plot(assumed_delta_arr, BW_1st_arr, linestyle = '-', label = 'Baum_Welch 1st', marker = 'x')\n",
    "        plt.plot(assumed_delta_arr, BW_2nd_arr, linestyle = '-', label = 'Baum_Welch 2nd', marker = 'x')\n",
    "        plt.plot(assumed_delta_arr, BW_3rd_arr, linestyle = '-', label = 'Baum_Welch 3rd', marker = 'x')\n",
    "\n",
    "        plt.plot(assumed_delta_arr, N_DUDE_arr, linestyle = '-', label = 'N-DUDE', marker = '*')\n",
    "        plt.plot(assumed_delta_arr, ICE_N_DUDE_arr, linestyle = '-', label = 'ICE-N-DUDE', marker = '.')\n",
    "\n",
    "        plt.xlim(0.1, 0.4)\n",
    "        plt.xticks([0.1, 0.2, 0.3 ,0.4], fontsize = 13)\n",
    "\n",
    "        plt.ylim(0.1,1.2)\n",
    "        plt.yticks([0.1,0.2,0.3,0.4,0.5,0.6,0.7,0.8,0.9,1.0,1.1,1.2], fontsize = 13)\n",
    "\n",
    "        plt.xlabel(\"Assumed average error rate\", fontsize = 20)\n",
    "        plt.ylabel(\"Average error rate\", fontsize = 20)\n",
    "\n",
    "        plt.legend(loc = 'upper right', frameon = True)\n",
    "        plt.title('%d_%s'%(nb_x_classes, PI_type), fontsize = 20)\n",
    "        plt.savefig('figure/%d_%s_quantized.pdf'%(nb_x_classes, PI_type), bbox_inches='tight')\n",
    "        \"\"\""
   ]
  },
  {
   "cell_type": "code",
   "execution_count": 3,
   "metadata": {},
   "outputs": [],
   "source": [
    "import pandas as pd\n",
    "name_arr = ['BW_1st', 'BW_2nd', 'BW_3rd', 'N-DUDE', 'ICE-N-DUDE']\n",
    "error_arr = ['20%', '30%', '10%']\n",
    "results_dir = {}\n",
    "for i in range(2):\n",
    "    results = {}\n",
    "    for j in range(len(name_arr)):\n",
    "        name = name_arr[j]\n",
    "        results[name] = value[i][j]\n",
    "    results_dir[error_arr[i]] = results\n",
    "    \n",
    "df = pd.DataFrame(results_dir).T"
   ]
  },
  {
   "cell_type": "code",
   "execution_count": 4,
   "metadata": {},
   "outputs": [
    {
     "name": "stdout",
     "output_type": "stream",
     "text": [
      "       BW_1st    BW_2nd    BW_3rd  ICE-N-DUDE    N-DUDE\n",
      "20%  0.393834  0.453359  0.715884    0.374419  0.373684\n",
      "30%  0.499991  0.421020  0.690639    0.419240  0.425910\n"
     ]
    }
   ],
   "source": [
    "print(df)"
   ]
  }
 ],
 "metadata": {
  "kernelspec": {
   "display_name": "Python 3",
   "language": "python",
   "name": "python3"
  },
  "language_info": {
   "codemirror_mode": {
    "name": "ipython",
    "version": 3
   },
   "file_extension": ".py",
   "mimetype": "text/x-python",
   "name": "python",
   "nbconvert_exporter": "python",
   "pygments_lexer": "ipython3",
   "version": "3.6.7"
  }
 },
 "nbformat": 4,
 "nbformat_minor": 2
}
