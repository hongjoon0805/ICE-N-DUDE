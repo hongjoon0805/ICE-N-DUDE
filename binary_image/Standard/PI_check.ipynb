{
 "cells": [
  {
   "cell_type": "code",
   "execution_count": 1,
   "metadata": {},
   "outputs": [],
   "source": [
    "import numpy as np\n",
    "from numpy import *\n",
    "import h5py\n",
    "import scipy.io as sio\n",
    "from numpy import linalg as LA"
   ]
  },
  {
   "cell_type": "code",
   "execution_count": 2,
   "metadata": {},
   "outputs": [],
   "source": [
    "def load_PI(name):\n",
    "    hdf5_path = 'PI/'+name+'.hdf5'\n",
    "    hdf5_file = h5py.File(hdf5_path, mode='r')\n",
    "    PI = hdf5_file[name][...]\n",
    "    hdf5_file.close()\n",
    "    return PI"
   ]
  },
  {
   "cell_type": "code",
   "execution_count": 3,
   "metadata": {},
   "outputs": [],
   "source": [
    "def load_channel(true_or_assumed, nb_x_classes, order, PI_type_num):\n",
    "    PI_dict = sio.loadmat('PARAM/' + true_or_assumed + '_PI.mat')\n",
    "    PI = PI_dict['%d_%d_%d'%(nb_x_classes, order, PI_type_num)]\n",
    "    return PI"
   ]
  },
  {
   "cell_type": "code",
   "execution_count": 4,
   "metadata": {},
   "outputs": [],
   "source": [
    "L1_norm = [[],[],[]]\n",
    "for i in range(3):\n",
    "    PI_true = load_channel('true', 2, 1, i)\n",
    "    if i<2:\n",
    "        param_name = \"ICE_%d_%d_%.2f\"%(2, i, 0.1)\n",
    "    else:\n",
    "        param_name = \"ICE_%d_%d\"%(2, i)\n",
    "    for t in range(10):\n",
    "        PI = load_PI(param_name + '_%d'%(t-1))\n",
    "        L1_norm[i].append(LA.norm(np.abs(PI-PI_true)) / (4))"
   ]
  },
  {
   "cell_type": "code",
   "execution_count": 8,
   "metadata": {},
   "outputs": [
    {
     "name": "stdout",
     "output_type": "stream",
     "text": [
      "[[0.01245082507691838, 0.018625983193792633, 0.03911590294275196], [0.0033575952728750174, 0.022502771264347538, 0.051726390912788175], [0.013273958700505782, 0.011697434167629393, 0.017349177925278462]]\n"
     ]
    }
   ],
   "source": [
    "print(L1_norm[0])\n",
    "print(L1_norm[1])\n",
    "print(L1_norm[2])"
   ]
  },
  {
   "cell_type": "code",
   "execution_count": 6,
   "metadata": {},
   "outputs": [],
   "source": [
    "L1_norm = [[],[],[]]\n",
    "for i in range(3):\n",
    "    PI_true = load_channel('true', 2, 1, i)\n",
    "    for order in range(1,4):\n",
    "        param_name = \"BW_%d_%d_%d\"%(2, order, i)\n",
    "        PI = load_PI(param_name)\n",
    "        \"\"\"\n",
    "        print('type: %d order: %d'%(i,order))\n",
    "        print(PI)\n",
    "        \"\"\"\n",
    "        L1_norm[i].append(LA.norm(np.abs(PI-PI_true)) / (4))"
   ]
  },
  {
   "cell_type": "code",
   "execution_count": 7,
   "metadata": {},
   "outputs": [
    {
     "name": "stdout",
     "output_type": "stream",
     "text": [
      "[0.01245082507691838, 0.018625983193792633, 0.03911590294275196]\n",
      "[0.0033575952728750174, 0.022502771264347538, 0.051726390912788175]\n",
      "[0.013273958700505782, 0.011697434167629393, 0.017349177925278462]\n"
     ]
    }
   ],
   "source": [
    "print(L1_norm[0])\n",
    "print(L1_norm[1])\n",
    "print(L1_norm[2])"
   ]
  }
 ],
 "metadata": {
  "kernelspec": {
   "display_name": "Python 3",
   "language": "python",
   "name": "python3"
  },
  "language_info": {
   "codemirror_mode": {
    "name": "ipython",
    "version": 3
   },
   "file_extension": ".py",
   "mimetype": "text/x-python",
   "name": "python",
   "nbconvert_exporter": "python",
   "pygments_lexer": "ipython3",
   "version": "3.6.7"
  }
 },
 "nbformat": 4,
 "nbformat_minor": 2
}
