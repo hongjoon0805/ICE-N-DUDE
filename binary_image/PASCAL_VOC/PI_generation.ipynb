{
 "cells": [
  {
   "cell_type": "code",
   "execution_count": 1,
   "metadata": {},
   "outputs": [],
   "source": [
    "import numpy as np\n",
    "import scipy.io as sio"
   ]
  },
  {
   "cell_type": "code",
   "execution_count": 2,
   "metadata": {},
   "outputs": [],
   "source": [
    "PI_type_arr = ['A', 'B', 'C', 'D', 'E']\n",
    "PI_dict = {}\n",
    "for type_num in range(5):\n",
    "    PI_type = PI_type_arr[type_num]\n",
    "    for nb_x_classes in range(2,5):\n",
    "        for nb_z_classes in range(2,7):\n",
    "            if nb_x_classes >= nb_z_classes:\n",
    "                continue\n",
    "            PI = np.random.rand(nb_x_classes,nb_z_classes)\n",
    "            PI /= np.sum(PI, axis = 1).reshape((nb_x_classes, 1))\n",
    "            key = '%d_%d_'%(nb_x_classes, nb_z_classes) + PI_type\n",
    "            PI_dict[key] = PI\n",
    "\n",
    "sio.savemat('PI/TRUE_channel.mat',PI_dict)"
   ]
  },
  {
   "cell_type": "code",
   "execution_count": 3,
   "metadata": {},
   "outputs": [],
   "source": [
    "PI_type_arr = ['A', 'B', 'C', 'D', 'E']\n",
    "PI_dict = {}\n",
    "for type_num in range(5):\n",
    "    PI_type = PI_type_arr[type_num]\n",
    "    for nb_x_classes in range(2,5):\n",
    "        for nb_z_classes in range(2,7):\n",
    "            if nb_x_classes >= nb_z_classes:\n",
    "                continue\n",
    "            PI = np.random.rand(nb_x_classes,nb_z_classes)\n",
    "            PI /= np.sum(PI, axis = 1).reshape((nb_x_classes, 1))\n",
    "            key = '%d_%d_'%(nb_x_classes, nb_z_classes) + PI_type\n",
    "            PI_dict[key] = PI\n",
    "\n",
    "sio.savemat('PI/ASSUMED_channel.mat',PI_dict)"
   ]
  }
 ],
 "metadata": {
  "kernelspec": {
   "display_name": "Python 3",
   "language": "python",
   "name": "python3"
  },
  "language_info": {
   "codemirror_mode": {
    "name": "ipython",
    "version": 3
   },
   "file_extension": ".py",
   "mimetype": "text/x-python",
   "name": "python",
   "nbconvert_exporter": "python",
   "pygments_lexer": "ipython3",
   "version": "3.6.7"
  }
 },
 "nbformat": 4,
 "nbformat_minor": 2
}
