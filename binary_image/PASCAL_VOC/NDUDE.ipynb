{
 "cells": [
  {
   "cell_type": "code",
   "execution_count": 1,
   "metadata": {},
   "outputs": [
    {
     "name": "stderr",
     "output_type": "stream",
     "text": [
      "Using TensorFlow backend.\n"
     ]
    }
   ],
   "source": [
    "from core import *\n",
    "from tools import *\n",
    "import numpy as np\n",
    "from numpy import *\n",
    "import os\n",
    "import tensorflow as tf\n",
    "import keras as K\n",
    "\n",
    "import sys\n",
    "import argparse"
   ]
  },
  {
   "cell_type": "code",
   "execution_count": 4,
   "metadata": {},
   "outputs": [],
   "source": [
    "# ICML_2019/image\n",
    "\n",
    "class State_Estimation_Process:\n",
    "    def __init__(self, n, k, nb_x_classes, nb_z_classes, x, z, param_name = 'test'):\n",
    "        self.n, self.k, self.x, self.z, self.nb_x_classes, self.nb_z_classes = n, k, x, z, nb_x_classes, nb_z_classes\n",
    "        self.param_name = param_name\n",
    "        self.raw_error = error_rate(x,z)\n",
    "        self.C = make_context(z, k, nb_z_classes, n)\n",
    "        \n",
    "        self.train_batch_size = 100 + 200 * (nb_x_classes - 2)\n",
    "        self.test_batch_size = 3000\n",
    "        self.epochs = nb_z_classes * 5\n",
    "    \n",
    "    def denoise(self, pred_prob): # Estimate latent variables using softmax output\n",
    "        n, k, x, z = self.n, self.k, self.x, self.z\n",
    "        \n",
    "        \"\"\"\n",
    "        pred_class[0] = Say What You See(s[0]=z[i]) = -1\n",
    "        pred_class[i+1] = Always Say i(s[i+1]=i) = i\n",
    "        \"\"\"\n",
    "        \n",
    "        # s(z) = z\n",
    "        pred_class = np.argmax(pred_prob, axis = -1) - 1\n",
    "        \n",
    "        # mask Say What You see\n",
    "        mask = pred_class == -1\n",
    "        \n",
    "        # mask-> Say What You see || others-> 0,1,2,3\n",
    "        x_hat = z[k:n-k] * mask + (mask^1)*pred_class\n",
    "        x_hat = np.hstack((z[:k], x_hat, z[n-k:n]))\n",
    "        \n",
    "        error = normalized_error_rate(x,x_hat,self.raw_error)\n",
    "        return error, x_hat\n",
    "    \n",
    "    def N_DUDE(self, PI): # Denoising process\n",
    "        n, k, nb_x_classes, nb_z_classes, z, param_name, C = self.n, self.k, self.nb_x_classes, self.nb_z_classes, self.z, self.param_name, self.C\n",
    "        epochs, train_batch_size, test_batch_size = self.epochs, self.train_batch_size, self.test_batch_size\n",
    "        iteration = 3\n",
    "            \n",
    "        # fine-tuning the weights from ICE process\n",
    "        L_new = L_NEW(PI, nb_x_classes, nb_z_classes)\n",
    "        Y = make_pseudo_label(z, k, L_new, nb_z_classes, n)\n",
    "        model = ICE_N_DUDE_model(nb_x_classes, nb_z_classes, k, lr = 0.0001)\n",
    "        model.load_weights(\"weights/\"+param_name+\".hd5\")\n",
    "        # model training...\n",
    "        hist = model.fit(C, Y, epochs=epochs // 2, batch_size=train_batch_size*4, verbose=1, validation_data=(C, Y))\n",
    "        \n",
    "        model.load_weights(\"weights/\"+param_name+\".hd5\")\n",
    "        pred_prob = model.predict(C, batch_size = test_batch_size*4, verbose = 0)\n",
    "        return self.denoise(pred_prob)\n"
   ]
  },
  {
   "cell_type": "code",
   "execution_count": null,
   "metadata": {},
   "outputs": [],
   "source": [
    "img_arr = ['2012_000003.jpg', '2012_000004.jpg', '2012_000007.jpg', '2012_000010.jpg', '2012_000014.jpg', '2012_000015.jpg', '2012_000016.jpg', '2012_000019.jpg', '2012_000025.jpg', '2012_000027.jpg', '2012_000028.jpg', '2012_000029.jpg', '2012_000030.jpg', '2012_000031.jpg', '2012_000032.jpg', '2012_000035.jpg', '2012_000036.jpg', '2012_000040.jpg', '2012_000042.jpg', '2012_000044.jpg', '2012_000045.jpg', '2012_000049.jpg', '2012_000050.jpg', '2012_000051.jpg', '2012_000055.jpg', '2012_000056.jpg', '2012_000058.jpg', '2012_000059.jpg', '2012_000060.jpg', '2012_000065.jpg', '2012_000067.jpg', '2012_000069.jpg', '2012_000070.jpg', '2012_000071.jpg', '2012_000072.jpg', '2012_000074.jpg', '2012_000078.jpg', '2012_000083.jpg', '2012_000084.jpg', '2012_000085.jpg', '2012_000086.jpg', '2012_000087.jpg', '2012_000089.jpg', '2012_000100.jpg', '2012_000102.jpg', '2012_000104.jpg', '2012_000105.jpg', '2012_000106.jpg', '2012_000108.jpg', '2012_000113.jpg']\n",
    "try:\n",
    "    parser = argparse.ArgumentParser()\n",
    "    \n",
    "    parser.add_argument(\"--t\", help=\"PI type\", type=int)\n",
    "    parser.add_argument(\"--i\", help=\"image number: 0~67\", type=int)\n",
    "    \n",
    "    args = parser.parse_args()\n",
    "    \n",
    "    result_name = sys.argv[0]\n",
    "    type_num = args.t\n",
    "    nb_x_classes = 2\n",
    "    nb_z_classes = nb_x_classes\n",
    "    img_num = args.i\n",
    "    k = 50\n",
    "    \n",
    "except:\n",
    "    result_name = \"test\"\n",
    "    type_num = 1\n",
    "    nb_x_classes = 2\n",
    "    nb_z_classes = nb_x_classes\n",
    "    img_num = 0\n",
    "    k = 50\n",
    "PI_type_arr = ['20%', '30%', '10%']"
   ]
  },
  {
   "cell_type": "code",
   "execution_count": null,
   "metadata": {},
   "outputs": [],
   "source": [
    "os.environ[\"CUDA_DEVICE_ORDER\"]=\"PCI_BUS_ID\"\n",
    "os.environ[\"CUDA_VISIBLE_DEVICES\"]='0, 1, 2, 3'\n",
    "\n",
    "config = tf.ConfigProto()\n",
    "config.gpu_options.allow_growth = True\n",
    "session = tf.Session(config=config)\n",
    "K.backend.set_session(session)"
   ]
  },
  {
   "cell_type": "code",
   "execution_count": null,
   "metadata": {},
   "outputs": [],
   "source": [
    "PI_type = PI_type_arr[type_num]\n",
    "PI = load_channel('true', nb_x_classes, 1, type_num)\n",
    "\n",
    "print(PI)\n",
    "\n",
    "f = open('results/' + '%d_'%nb_x_classes + PI_type + '_' + result_name,'a')\n",
    "\n",
    "x,z = load_img(PI, [img_arr[img_num]])\n",
    "\n",
    "param_name = \"NDUDE_%d\"%(type_num)\n",
    "\n",
    "n = len(x)\n",
    "\n",
    "print(x[:20])\n",
    "print(z[:20])\n",
    "\n",
    "print(n)\n",
    "\n",
    "print(error_rate(x,z))\n",
    "\n"
   ]
  },
  {
   "cell_type": "code",
   "execution_count": null,
   "metadata": {},
   "outputs": [],
   "source": [
    "# State Estimation Process\n",
    "SE = State_Estimation_Process(n, k, nb_x_classes, nb_z_classes, x, z, param_name = param_name)\n",
    "error, x_hat = SE.N_DUDE(PI)\n",
    "f.write(\"%d %.5f\\n\"%(img_num, error))\n",
    "print('%d %.5f'%(img_num, error))"
   ]
  }
 ],
 "metadata": {
  "kernelspec": {
   "display_name": "Python 3",
   "language": "python",
   "name": "python3"
  },
  "language_info": {
   "codemirror_mode": {
    "name": "ipython",
    "version": 3
   },
   "file_extension": ".py",
   "mimetype": "text/x-python",
   "name": "python",
   "nbconvert_exporter": "python",
   "pygments_lexer": "ipython3",
   "version": "3.6.7"
  }
 },
 "nbformat": 4,
 "nbformat_minor": 2
}
