{
 "cells": [
  {
   "cell_type": "code",
   "execution_count": 1,
   "metadata": {},
   "outputs": [],
   "source": [
    "import numpy as np\n",
    "from numpy import *\n",
    "import h5py\n",
    "import scipy.io as sio\n",
    "from numpy import linalg as LA"
   ]
  },
  {
   "cell_type": "code",
   "execution_count": 2,
   "metadata": {},
   "outputs": [],
   "source": [
    "def load_PI(name):\n",
    "    hdf5_path = 'PI/'+name+'.hdf5'\n",
    "    hdf5_file = h5py.File(hdf5_path, mode='r')\n",
    "    PI = hdf5_file[name][...]\n",
    "    hdf5_file.close()\n",
    "    return PI"
   ]
  },
  {
   "cell_type": "code",
   "execution_count": 3,
   "metadata": {},
   "outputs": [],
   "source": [
    "def load_channel(true_or_assumed, nb_x_classes, order, PI_type_num):\n",
    "    PI_dict = sio.loadmat('PARAM/' + true_or_assumed + '_PI.mat')\n",
    "    PI = PI_dict['%d_%d_%d'%(nb_x_classes, order, PI_type_num)]\n",
    "    return PI"
   ]
  },
  {
   "cell_type": "code",
   "execution_count": 14,
   "metadata": {},
   "outputs": [
    {
     "name": "stdout",
     "output_type": "stream",
     "text": [
      "[[0.8133446  0.18932822]\n",
      " [0.27990186 0.7177562 ]]\n",
      "[[0.7492309  0.25308713]\n",
      " [0.32467073 0.6733974 ]]\n",
      "[[0.8600777  0.13760568]\n",
      " [0.17114474 0.83126765]]\n"
     ]
    }
   ],
   "source": [
    "L1_norm = [[],[],[]]\n",
    "for i in range(3):\n",
    "    PI_true = load_channel('true', 2, 1, i)\n",
    "    if i<2:\n",
    "        param_name = \"ICE_%d_%d_%.2f\"%(2, i, 0.1)\n",
    "    else:\n",
    "        param_name = \"ICE_%d_%d\"%(2, i)\n",
    "    for t in range(10):\n",
    "        PI = load_PI(param_name + '_%d'%(t-1))\n",
    "        if t==3:\n",
    "            print(PI)\n",
    "        L1_norm[i].append(LA.norm(np.abs(PI-PI_true)) / (4))"
   ]
  },
  {
   "cell_type": "code",
   "execution_count": 5,
   "metadata": {},
   "outputs": [
    {
     "name": "stdout",
     "output_type": "stream",
     "text": [
      "[0.0010966266401343796, 0.013248669012458154, 0.017372846880268633, 0.019154946977994997, 0.01917426600093026, 0.01754544034068553, 0.019070049057008338, 0.02136780564406633, 0.020840512294670648, 0.019998754033334096]\n",
      "[0.027872733932344046, 0.013191518443344702, 0.010818071444321106, 0.010058245161255893, 0.01030141763674193, 0.011686887151192074, 0.011290821802854508, 0.011814216362637013, 0.010342307137068523, 0.010426402268116345]\n",
      "[0.021844912734082542, 0.026197421468715287, 0.0308257428699852, 0.029036732885307965, 0.029018243929531572, 0.028030677848160893, 0.0251959782247074, 0.02572156148341377, 0.02867643722043896, 0.029668272676997103]\n"
     ]
    }
   ],
   "source": [
    "print(L1_norm[0])\n",
    "print(L1_norm[1])\n",
    "print(L1_norm[2])"
   ]
  },
  {
   "cell_type": "code",
   "execution_count": 6,
   "metadata": {},
   "outputs": [],
   "source": [
    "L1_norm = [[],[],[]]\n",
    "for i in range(3):\n",
    "    PI_true = load_channel('true', 2, 1, i)\n",
    "    for order in range(1,4):\n",
    "        param_name = \"BW_%d_%d_%d\"%(2, order, i)\n",
    "        PI = load_PI(param_name)\n",
    "        \"\"\"\n",
    "        print('type: %d order: %d'%(i,order))\n",
    "        print(PI)\n",
    "        \"\"\"\n",
    "        L1_norm[i].append(LA.norm(np.abs(PI-PI_true)) / (4))"
   ]
  },
  {
   "cell_type": "code",
   "execution_count": 7,
   "metadata": {},
   "outputs": [
    {
     "name": "stdout",
     "output_type": "stream",
     "text": [
      "[0.013662236531811778, 0.013990401167673663, 0.03778702655468827]\n",
      "[0.0022489751208251644, 0.015408347216406207, 0.05007363114750086]\n",
      "[0.014852432218021424, 0.025175307502872696, 0.01865851586275508]\n"
     ]
    }
   ],
   "source": [
    "print(L1_norm[0])\n",
    "print(L1_norm[1])\n",
    "print(L1_norm[2])"
   ]
  }
 ],
 "metadata": {
  "kernelspec": {
   "display_name": "Python 3",
   "language": "python",
   "name": "python3"
  },
  "language_info": {
   "codemirror_mode": {
    "name": "ipython",
    "version": 3
   },
   "file_extension": ".py",
   "mimetype": "text/x-python",
   "name": "python",
   "nbconvert_exporter": "python",
   "pygments_lexer": "ipython3",
   "version": "3.6.7"
  }
 },
 "nbformat": 4,
 "nbformat_minor": 2
}
