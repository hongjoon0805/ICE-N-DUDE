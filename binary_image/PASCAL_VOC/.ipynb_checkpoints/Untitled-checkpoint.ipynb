{
 "cells": [
  {
   "cell_type": "code",
   "execution_count": 1,
   "metadata": {},
   "outputs": [
    {
     "name": "stderr",
     "output_type": "stream",
     "text": [
      "Using TensorFlow backend.\n"
     ]
    }
   ],
   "source": [
    "from tools import *"
   ]
  },
  {
   "cell_type": "code",
   "execution_count": 2,
   "metadata": {},
   "outputs": [],
   "source": [
    "nb_x_classes = 2\n",
    "PI =sym_mat(nb_x_classes, 0.1)\n",
    "img_idx = []\n",
    "for i in range(3,114):\n",
    "    try:\n",
    "        load_img(PI, ['2012_000%03d.jpg'%i])\n",
    "        img_idx.append(i)\n",
    "    except:\n",
    "        pass"
   ]
  },
  {
   "cell_type": "code",
   "execution_count": 3,
   "metadata": {},
   "outputs": [
    {
     "name": "stdout",
     "output_type": "stream",
     "text": [
      "[3, 4, 7, 10, 14, 15, 16, 19, 25, 27, 28, 29, 30, 31, 32, 35, 36, 40, 42, 44, 45, 49, 50, 51, 55, 56, 58, 59, 60, 65, 67, 69, 70, 71, 72, 74, 78, 83, 84, 85, 86, 87, 89, 100, 102, 104, 105, 106, 108, 113]\n"
     ]
    }
   ],
   "source": [
    "print(img_idx)"
   ]
  }
 ],
 "metadata": {
  "kernelspec": {
   "display_name": "Python 3",
   "language": "python",
   "name": "python3"
  },
  "language_info": {
   "codemirror_mode": {
    "name": "ipython",
    "version": 3
   },
   "file_extension": ".py",
   "mimetype": "text/x-python",
   "name": "python",
   "nbconvert_exporter": "python",
   "pygments_lexer": "ipython3",
   "version": "3.6.7"
  }
 },
 "nbformat": 4,
 "nbformat_minor": 2
}
