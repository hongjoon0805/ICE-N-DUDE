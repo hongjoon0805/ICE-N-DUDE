{
 "cells": [
  {
   "cell_type": "code",
   "execution_count": 1,
   "metadata": {},
   "outputs": [
    {
     "name": "stderr",
     "output_type": "stream",
     "text": [
      "Using TensorFlow backend.\n"
     ]
    }
   ],
   "source": [
    "from core import *\n",
    "from tools import *\n",
    "import numpy as np\n",
    "from numpy import *\n",
    "import os\n",
    "import tensorflow as tf\n",
    "import keras as K\n",
    "\n",
    "import sys\n",
    "import argparse"
   ]
  },
  {
   "cell_type": "code",
   "execution_count": 2,
   "metadata": {},
   "outputs": [
    {
     "name": "stderr",
     "output_type": "stream",
     "text": [
      "usage: ipykernel_launcher.py [-h] [--t T] [--x X] [--o O] [--i I] [--d D]\n",
      "ipykernel_launcher.py: error: unrecognized arguments: -f /run/user/1002/jupyter/kernel-b9c37556-a9e8-4835-8b35-4d221685629f.json\n"
     ]
    }
   ],
   "source": [
    "img_arr = ['2012_000003.jpg', '2012_000004.jpg', '2012_000007.jpg', '2012_000010.jpg', '2012_000014.jpg', '2012_000015.jpg', '2012_000016.jpg', '2012_000019.jpg', '2012_000025.jpg', '2012_000027.jpg', '2012_000028.jpg', '2012_000029.jpg', '2012_000030.jpg', '2012_000031.jpg', '2012_000032.jpg', '2012_000035.jpg', '2012_000036.jpg', '2012_000040.jpg', '2012_000042.jpg', '2012_000044.jpg', '2012_000045.jpg', '2012_000049.jpg', '2012_000050.jpg', '2012_000051.jpg', '2012_000055.jpg', '2012_000056.jpg', '2012_000058.jpg', '2012_000059.jpg', '2012_000060.jpg', '2012_000065.jpg', '2012_000067.jpg', '2012_000069.jpg', '2012_000070.jpg', '2012_000071.jpg', '2012_000072.jpg', '2012_000074.jpg', '2012_000078.jpg', '2012_000083.jpg', '2012_000084.jpg', '2012_000085.jpg', '2012_000086.jpg', '2012_000087.jpg', '2012_000089.jpg', '2012_000100.jpg', '2012_000102.jpg', '2012_000104.jpg', '2012_000105.jpg', '2012_000106.jpg', '2012_000108.jpg', '2012_000113.jpg']\n",
    "\n",
    "try:\n",
    "    parser = argparse.ArgumentParser()\n",
    "    \n",
    "    parser.add_argument(\"--t\", help=\"PI type\", type=int)\n",
    "    parser.add_argument(\"--o\", help=\"Markov chain order\", type=int)\n",
    "    parser.add_argument(\"--i\", help=\"image number: 0~67\", type=int)\n",
    "    \n",
    "    \n",
    "    args = parser.parse_args()\n",
    "    \n",
    "    result_name = sys.argv[0]\n",
    "    type_num = args.t\n",
    "    nb_x_classes = 2\n",
    "    nb_z_classes = nb_x_classes\n",
    "    order = args.o\n",
    "    img_num = args.i\n",
    "    \n",
    "except:\n",
    "    result_name = \"test\"\n",
    "    type_num = 0\n",
    "    nb_x_classes = 2\n",
    "    nb_z_classes = nb_x_classes\n",
    "    img_num = 0\n",
    "    order = 3\n",
    "PI_type_arr = ['20%', '30%', '10%']"
   ]
  },
  {
   "cell_type": "code",
   "execution_count": 3,
   "metadata": {},
   "outputs": [
    {
     "name": "stdout",
     "output_type": "stream",
     "text": [
      "[[0.83 0.17]\n",
      " [0.23 0.77]]\n",
      "[0 0 0 0 0 0 0 0 0 0 0 0 0 0 0 0 0 0 0 0]\n",
      "[1 0 0 0 0 0 1 0 0 0 0 0 0 0 1 0 0 0 0 0]\n",
      "154401\n",
      "0.1951153166106437\n",
      "[0 0 0 0 0 0 0 0 0 0 0 0 0 0 0 0 0 0 0 0]\n",
      "[1 0 0 0 0 0 1 0 0 0 0 0 0 0 1 0 0 0 0 0]\n",
      "[[0.9 0.1 0.  0.  0.  0.  0.  0. ]\n",
      " [0.  0.  0.1 0.9 0.  0.  0.  0. ]\n",
      " [0.  0.  0.  0.  0.8 0.2 0.  0. ]\n",
      " [0.  0.  0.  0.  0.  0.  0.2 0.8]\n",
      " [0.7 0.3 0.  0.  0.  0.  0.  0. ]\n",
      " [0.  0.  0.3 0.7 0.  0.  0.  0. ]\n",
      " [0.  0.  0.  0.  0.6 0.4 0.  0. ]\n",
      " [0.  0.  0.  0.  0.  0.  0.4 0.6]]\n"
     ]
    }
   ],
   "source": [
    "PI_type = PI_type_arr[type_num]\n",
    "\n",
    "PI = load_channel('true', nb_x_classes, 1, type_num)\n",
    "assumed_PI = load_channel('assumed', nb_x_classes, order, type_num)\n",
    "assumed_TRANS = load_TRANS('assumed', nb_x_classes, order)\n",
    "\n",
    "\n",
    "f = open('results/' + '%d_%s_'%(nb_x_classes, PI_type) + '_' + result_name,'a')\n",
    "\n",
    "param_name = \"BW_%d_%d_%d\"%(nb_x_classes, order, type_num)\n",
    "\n",
    "x,z = load_img(PI, [img_arr[img_num]])\n",
    "n = len(x)\n",
    "\n",
    "print(PI)\n",
    "print(x[:20])\n",
    "print(z[:20])\n",
    "print(n)\n",
    "\n",
    "x_conv = convert_sequence(x, order, nb_x_classes)\n",
    "\n",
    "raw_error = error_rate(x,z)\n",
    "\n",
    "print(raw_error)\n",
    "\n",
    "print(x_conv[:20])\n",
    "print(z[:20])\n",
    "print(assumed_TRANS)"
   ]
  },
  {
   "cell_type": "code",
   "execution_count": 4,
   "metadata": {},
   "outputs": [
    {
     "name": "stdout",
     "output_type": "stream",
     "text": [
      "0.742581159131647\n",
      "[[0.8022596  0.1977404 ]\n",
      " [0.49871406 0.50128594]\n",
      " [0.88461857 0.11538143]\n",
      " [0.19571487 0.80428513]\n",
      " [0.89844126 0.10155874]\n",
      " [0.12986237 0.87013763]\n",
      " [0.87947407 0.12052593]\n",
      " [0.1001474  0.8998526 ]]\n"
     ]
    }
   ],
   "source": [
    "BW_ = BW(n, x_conv, z)\n",
    "a, Estimated_PI, gamma = BW_.Baum_Welch(assumed_TRANS, assumed_PI)\n",
    "_, x_hat = BW_.denoise(gamma)\n",
    "error = normalized_error_rate(x, x_hat%nb_x_classes, raw_error)\n",
    "f.write(\"%d %d %.5f\\n\"%(order, img_num, error))\n",
    "print(error)\n",
    "print(Estimated_PI)"
   ]
  }
 ],
 "metadata": {
  "kernelspec": {
   "display_name": "Python 3",
   "language": "python",
   "name": "python3"
  },
  "language_info": {
   "codemirror_mode": {
    "name": "ipython",
    "version": 3
   },
   "file_extension": ".py",
   "mimetype": "text/x-python",
   "name": "python",
   "nbconvert_exporter": "python",
   "pygments_lexer": "ipython3",
   "version": "3.6.7"
  }
 },
 "nbformat": 4,
 "nbformat_minor": 2
}
