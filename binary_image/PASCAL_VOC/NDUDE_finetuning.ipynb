{
 "cells": [
  {
   "cell_type": "code",
   "execution_count": 1,
   "metadata": {},
   "outputs": [
    {
     "name": "stderr",
     "output_type": "stream",
     "text": [
      "Using TensorFlow backend.\n"
     ]
    }
   ],
   "source": [
    "from core import *\n",
    "from tools import *\n",
    "import numpy as np\n",
    "from numpy import *\n",
    "import os\n",
    "import tensorflow as tf\n",
    "import keras as K\n",
    "\n",
    "import sys\n",
    "import argparse"
   ]
  },
  {
   "cell_type": "code",
   "execution_count": 2,
   "metadata": {},
   "outputs": [
    {
     "name": "stderr",
     "output_type": "stream",
     "text": [
      "usage: ipykernel_launcher.py [-h] [--t T] [--x X] [--i I] [--d D]\n",
      "ipykernel_launcher.py: error: unrecognized arguments: -f /run/user/1002/jupyter/kernel-1ee7a563-3cc5-4d7c-9bf2-d0758cc4d27c.json\n"
     ]
    }
   ],
   "source": [
    "img_arr = ['2012_000003.jpg', '2012_000004.jpg', '2012_000007.jpg', '2012_000010.jpg', '2012_000014.jpg', '2012_000015.jpg', '2012_000016.jpg', '2012_000019.jpg', '2012_000025.jpg', '2012_000027.jpg', '2012_000028.jpg', '2012_000029.jpg', '2012_000030.jpg', '2012_000031.jpg', '2012_000032.jpg', '2012_000035.jpg', '2012_000036.jpg', '2012_000040.jpg', '2012_000042.jpg', '2012_000044.jpg', '2012_000045.jpg', '2012_000049.jpg', '2012_000050.jpg', '2012_000051.jpg', '2012_000055.jpg', '2012_000056.jpg', '2012_000058.jpg', '2012_000059.jpg', '2012_000060.jpg', '2012_000065.jpg', '2012_000067.jpg', '2012_000069.jpg', '2012_000070.jpg', '2012_000071.jpg', '2012_000072.jpg', '2012_000074.jpg', '2012_000078.jpg', '2012_000083.jpg', '2012_000084.jpg', '2012_000085.jpg', '2012_000086.jpg', '2012_000087.jpg', '2012_000089.jpg', '2012_000100.jpg', '2012_000102.jpg', '2012_000104.jpg', '2012_000105.jpg', '2012_000106.jpg', '2012_000108.jpg', '2012_000113.jpg']\n",
    "\n",
    "try:\n",
    "    parser = argparse.ArgumentParser()\n",
    "    \n",
    "    parser.add_argument(\"--t\", help=\"PI type\", type=int)\n",
    "    parser.add_argument(\"--i\", help=\"image number: 0~67\", type=int)\n",
    "    \n",
    "    args = parser.parse_args()\n",
    "    \n",
    "    result_name = sys.argv[0]\n",
    "    type_num = args.t\n",
    "    nb_x_classes = 2\n",
    "    nb_z_classes = nb_x_classes\n",
    "    img_num = args.i\n",
    "    k = 50\n",
    "    \n",
    "except:\n",
    "    result_name = \"test\"\n",
    "    type_num = 1\n",
    "    nb_x_classes = 2\n",
    "    nb_z_classes = nb_x_classes\n",
    "    img_num = 5\n",
    "    k = 50\n",
    "PI_type_arr = ['20%', '30%', '10%']"
   ]
  },
  {
   "cell_type": "code",
   "execution_count": 3,
   "metadata": {},
   "outputs": [],
   "source": [
    "os.environ[\"CUDA_DEVICE_ORDER\"]=\"PCI_BUS_ID\"\n",
    "os.environ[\"CUDA_VISIBLE_DEVICES\"]='0, 1, 2, 3'\n",
    "\n",
    "config = tf.ConfigProto()\n",
    "config.gpu_options.allow_growth = True\n",
    "session = tf.Session(config=config)\n",
    "K.backend.set_session(session)"
   ]
  },
  {
   "cell_type": "code",
   "execution_count": 4,
   "metadata": {},
   "outputs": [
    {
     "name": "stdout",
     "output_type": "stream",
     "text": [
      "[[0.68 0.12 0.1  0.1 ]\n",
      " [0.11 0.67 0.09 0.13]\n",
      " [0.12 0.08 0.7  0.1 ]\n",
      " [0.09 0.07 0.09 0.75]]\n",
      "[3 3 3 3 3 3 3 3 3 3 3 3 3 3 3 3 3 3 3 3]\n",
      "[2 3 3 3 3 3 3 3 0 0 3 3 0 1 3 0 3 3 3 3]\n",
      "154401\n",
      "0.29756931626090505\n"
     ]
    }
   ],
   "source": [
    "PI_type = PI_type_arr[type_num]\n",
    "PI = load_channel('true', nb_x_classes, 1, type_num)\n",
    "\n",
    "print(PI)\n",
    "\n",
    "f = open('results/' + '%d_%s_'%(nb_x_classes, PI_type) + '_' + result_name,'a')\n",
    "\n",
    "param_name = \"ICE_%d_%d\"%(nb_x_classes, type_num)\n",
    "\n",
    "x,z = load_img(PI, [img_arr[img_num]])\n",
    "\n",
    "n = len(x)\n",
    "\n",
    "print(x[:20])\n",
    "print(z[:20])\n",
    "\n",
    "print(n)\n",
    "\n",
    "print(error_rate(x,z))"
   ]
  },
  {
   "cell_type": "code",
   "execution_count": 5,
   "metadata": {},
   "outputs": [
    {
     "name": "stdout",
     "output_type": "stream",
     "text": [
      "[[0.6562037  0.156112   0.099564   0.08782039]\n",
      " [0.17566508 0.6177746  0.10945535 0.09644051]\n",
      " [0.18744017 0.18360463 0.5100595  0.11783334]\n",
      " [0.1991873  0.1928932  0.13864262 0.4684189 ]]\n"
     ]
    }
   ],
   "source": [
    "Estimated_PI = load_PI(param_name)\n",
    "print(Estimated_PI)"
   ]
  },
  {
   "cell_type": "code",
   "execution_count": 6,
   "metadata": {},
   "outputs": [
    {
     "name": "stdout",
     "output_type": "stream",
     "text": [
      "Train on 154301 samples, validate on 154301 samples\n",
      "Epoch 1/1\n",
      "154301/154301 [==============================] - 3s 19us/step - loss: 1.1383 - val_loss: 1.1325\n",
      "5 0.41245\n"
     ]
    }
   ],
   "source": [
    "# Denoising Estimation Process\n",
    "Estimated_PI = load_PI(param_name)\n",
    "SE = State_Estimation_Process(n, k, nb_x_classes, nb_z_classes, x, z, param_name = param_name)\n",
    "error, x_hat = SE.N_DUDE(Estimated_PI)\n",
    "f.write(\"%d %.5f\\n\"%(img_num, error))\n",
    "print('%d %.5f'%(img_num, error))"
   ]
  }
 ],
 "metadata": {
  "kernelspec": {
   "display_name": "Python 3",
   "language": "python",
   "name": "python3"
  },
  "language_info": {
   "codemirror_mode": {
    "name": "ipython",
    "version": 3
   },
   "file_extension": ".py",
   "mimetype": "text/x-python",
   "name": "python",
   "nbconvert_exporter": "python",
   "pygments_lexer": "ipython3",
   "version": "3.6.7"
  }
 },
 "nbformat": 4,
 "nbformat_minor": 2
}
