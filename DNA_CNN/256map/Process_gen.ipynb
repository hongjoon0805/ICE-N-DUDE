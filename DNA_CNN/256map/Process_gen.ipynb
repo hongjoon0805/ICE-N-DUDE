{
 "cells": [
  {
   "cell_type": "code",
   "execution_count": 1,
   "metadata": {},
   "outputs": [],
   "source": [
    "import numpy as np"
   ]
  },
  {
   "cell_type": "code",
   "execution_count": 2,
   "metadata": {},
   "outputs": [],
   "source": [
    "def print_process(name, gpu_cnt, parallel_cnt):\n",
    "    if (gpu_cnt + 1) % parallel_cnt != 0:\n",
    "        name = name + '&'\n",
    "    print(name)\n",
    "    gpu_cnt += 1"
   ]
  },
  {
   "cell_type": "code",
   "execution_count": 3,
   "metadata": {},
   "outputs": [
    {
     "name": "stdout",
     "output_type": "stream",
     "text": [
      "python3 DNA_N_DUDE_CNN.py --k 10\n",
      "python3 DNA_N_DUDE_CNN.py --k 20\n",
      "python3 DNA_N_DUDE_CNN.py --k 30\n",
      "python3 DNA_N_DUDE_CNN.py --k 40\n",
      "python3 DNA_N_DUDE_CNN.py --k 50\n",
      "python3 DNA_N_DUDE_CNN.py --k 60\n",
      "python3 DNA_N_DUDE_CNN.py --k 70\n",
      "python3 DNA_N_DUDE_CNN.py --k 80\n",
      "python3 DNA_N_DUDE_CNN.py --k 90\n",
      "python3 DNA_N_DUDE_CNN.py --k 100\n",
      "python3 DNA_N_DUDE_CNN.py --k 110\n",
      "python3 DNA_N_DUDE_CNN.py --k 120\n",
      "python3 DNA_N_DUDE_CNN.py --k 130\n",
      "python3 DNA_N_DUDE_CNN.py --k 140\n",
      "python3 DNA_N_DUDE_CNN.py --k 150\n",
      "python3 DNA_N_DUDE_CNN.py --k 160\n",
      "python3 DNA_N_DUDE_CNN.py --k 170\n",
      "python3 DNA_N_DUDE_CNN.py --k 180\n",
      "python3 DNA_N_DUDE_CNN.py --k 190\n",
      "python3 DNA_N_DUDE_CNN.py --k 200\n",
      "python ~/send_email.py DNA_N_DUDE_CNN.py/256map\n"
     ]
    }
   ],
   "source": [
    "k_arr = np.arange(10,201,10)\n",
    "\n",
    "name = 'DNA_N_DUDE_CNN.py'\n",
    "\n",
    "gpu_cnt = 0\n",
    "parallel_cnt = 2\n",
    "\n",
    "for k in k_arr:\n",
    "    print('python3 '+ name + ' --k %d'%(k))\n",
    "\n",
    "print('python ~/send_email.py '+ name + '/256map')"
   ]
  },
  {
   "cell_type": "code",
   "execution_count": null,
   "metadata": {},
   "outputs": [],
   "source": []
  }
 ],
 "metadata": {
  "kernelspec": {
   "display_name": "Python 3",
   "language": "python",
   "name": "python3"
  },
  "language_info": {
   "codemirror_mode": {
    "name": "ipython",
    "version": 3
   },
   "file_extension": ".py",
   "mimetype": "text/x-python",
   "name": "python",
   "nbconvert_exporter": "python",
   "pygments_lexer": "ipython3",
   "version": "3.6.7"
  }
 },
 "nbformat": 4,
 "nbformat_minor": 2
}
