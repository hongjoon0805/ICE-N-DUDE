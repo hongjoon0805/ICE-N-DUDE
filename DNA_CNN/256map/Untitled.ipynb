{
 "cells": [
  {
   "cell_type": "code",
   "execution_count": 1,
   "metadata": {},
   "outputs": [
    {
     "name": "stderr",
     "output_type": "stream",
     "text": [
      "Using TensorFlow backend.\n"
     ]
    }
   ],
   "source": [
    "from core import *\n",
    "from tools import *\n",
    "import numpy as np\n",
    "import os\n",
    "import tensorflow as tf\n",
    "import keras as K\n",
    "\n",
    "import sys\n",
    "import argparse"
   ]
  },
  {
   "cell_type": "code",
   "execution_count": 2,
   "metadata": {},
   "outputs": [],
   "source": [
    "# ICML_2019/DNA_CNN/Denoising\n",
    "\n",
    "class Denoising_Process:\n",
    "    def __init__(self, n, k, nb_x_classes, nb_z_classes, x, z, param_name = 'test'):\n",
    "        self.n, self.k, self.x, self.z, self.nb_x_classes, self.nb_z_classes = n, k, x, z, nb_x_classes, nb_z_classes\n",
    "        self.param_name = param_name\n",
    "        self.raw_error = error_rate(x,z)\n",
    "        self.C = make_batch(z,k)\n",
    "    \n",
    "    def denoise(self, pred_prob): # Denoise sequence using softmax output\n",
    "        n, k, x, z = self.n, self.k, self.x, self.z\n",
    "        \n",
    "        \"\"\"\n",
    "        pred_class[0] = Say What You See(s[0]=z[i]) = -1\n",
    "        pred_class[1] = Always Say 0(s[1]=0) = 0\n",
    "        pred_class[2] = Always Say 1(s[2]=1) = 1\n",
    "        pred_class[3] = Always Say 1(s[2]=1) = 2\n",
    "        pred_class[4] = Always Say 1(s[2]=1) = 3\n",
    "        \"\"\"\n",
    "        \n",
    "        # s(z) = z\n",
    "        pred_class = np.argmax(pred_prob, axis = -1) - 1\n",
    "        \n",
    "        # mask Say What You see\n",
    "        mask = pred_class == -1\n",
    "        \n",
    "        # mask-> Say What You see || others-> 0,1,2,3\n",
    "        x_hat = z * mask + (mask^1)*pred_class\n",
    "\n",
    "        error = normalized_error_rate(x,x_hat,self.raw_error)\n",
    "        return error, x_hat\n",
    "    \n",
    "    def N_DUDE(self, PI): # Denoising process\n",
    "        n, k, nb_x_classes, nb_z_classes, z, param_name, C = self.n, self.k, self.nb_x_classes, self.nb_z_classes, self.z, self.param_name, self.C\n",
    "        \n",
    "        \n",
    "        # fine-tuning the weights from ICE process\n",
    "        L_new = L_NEW(PI, nb_x_classes, nb_z_classes)\n",
    "        Y = make_pseudo_label(C, k, L_new)\n",
    "        \n",
    "        # model assign & train\n",
    "        if param_name == 'NDUDE':\n",
    "            model = NDUDE_CNN_model_5map(1000, nb_x_classes, nb_z_classes, k)\n",
    "            hist = model.fit(C,Y,epochs=20, batch_size=2*4, verbose=1, validation_data=(C, Y))\n",
    "        \n",
    "        else:\n",
    "            model = NDUDE_CNN_model_5map(1000, nb_x_classes, nb_z_classes, k, lr = 0.0001)\n",
    "            model.load_weights(\"weights/\"+param_name+\".hd5\")\n",
    "            hist = model.fit(C,Y,epochs=10, batch_size=2*4, verbose=1, validation_data=(C, Y))\n",
    "            \n",
    "        pred_prob = model.predict(C, batch_size = 20*4, verbose = 0)\n",
    "        \n",
    "        # reshape the output\n",
    "        N,D,_ = pred_prob.shape\n",
    "        pred_prob = np.resize(pred_prob, (N*D,nb_x_classes+1))[:n]\n",
    "        \n",
    "        return self.denoise(pred_prob)\n"
   ]
  },
  {
   "cell_type": "code",
   "execution_count": 3,
   "metadata": {},
   "outputs": [
    {
     "name": "stderr",
     "output_type": "stream",
     "text": [
      "usage: ipykernel_launcher.py [-h] [--k K]\n",
      "ipykernel_launcher.py: error: unrecognized arguments: -f /run/user/1002/jupyter/kernel-4b72b368-ff5a-43cb-9a46-0c6bdd8b7784.json\n"
     ]
    }
   ],
   "source": [
    "PI_true = array([ [ 0.8122,  0.0034,  0.0894,  0.0950],\n",
    "                  [ 0.0096,  0.8237,  0.0808,  0.0859],\n",
    "                  [ 0.1066,  0.0436,  0.7774,  0.0724],\n",
    "                  [ 0.0704,  0.0690,  0.0889,  0.7717]])\n",
    "x, z = load_DNA(PI_true)\n",
    "\n",
    "try:\n",
    "    parser = argparse.ArgumentParser()\n",
    "    \n",
    "    parser.add_argument(\"--k\", help=\"window size k\", type=int)\n",
    "    \n",
    "    args = parser.parse_args()\n",
    "    \n",
    "    result_name = sys.argv[0]\n",
    "    k = args.k\n",
    "    n = len(x)\n",
    "    \n",
    "except:\n",
    "    result_name = \"test\"\n",
    "    k = 150\n",
    "    n = int(1e4)\n",
    "    n = len(x)\n",
    "\n",
    "nb_x_classes, nb_z_classes = 4, 4\n",
    "param_name = 'NDUDE'\n",
    "x, z = x[:n], z[:n]"
   ]
  },
  {
   "cell_type": "code",
   "execution_count": 4,
   "metadata": {},
   "outputs": [],
   "source": [
    "os.environ[\"CUDA_DEVICE_ORDER\"]=\"PCI_BUS_ID\"\n",
    "os.environ[\"CUDA_VISIBLE_DEVICES\"]='0, 1, 2, 3'\n",
    "\n",
    "config = tf.ConfigProto()\n",
    "config.gpu_options.allow_growth = True\n",
    "session = tf.Session(config=config)\n",
    "K.backend.set_session(session)"
   ]
  },
  {
   "cell_type": "code",
   "execution_count": 5,
   "metadata": {},
   "outputs": [
    {
     "name": "stdout",
     "output_type": "stream",
     "text": [
      "k: 150 \n",
      "Train on 2470 samples, validate on 2470 samples\n",
      "Epoch 1/20\n",
      "2470/2470 [==============================] - 9s 4ms/step - loss: 0.7648 - val_loss: 0.7310\n",
      "Epoch 2/20\n",
      "2470/2470 [==============================] - 4s 2ms/step - loss: 0.7210 - val_loss: 0.7105\n",
      "Epoch 3/20\n",
      "2470/2470 [==============================] - 4s 2ms/step - loss: 0.7075 - val_loss: 0.7009\n",
      "Epoch 4/20\n",
      "2470/2470 [==============================] - 4s 2ms/step - loss: 0.7002 - val_loss: 0.6954\n",
      "Epoch 5/20\n",
      "2470/2470 [==============================] - 4s 2ms/step - loss: 0.6960 - val_loss: 0.6921\n",
      "Epoch 6/20\n",
      "2470/2470 [==============================] - 4s 2ms/step - loss: 0.6930 - val_loss: 0.6895\n",
      "Epoch 7/20\n",
      "2470/2470 [==============================] - 4s 2ms/step - loss: 0.6907 - val_loss: 0.6876\n",
      "Epoch 8/20\n",
      "2470/2470 [==============================] - 4s 2ms/step - loss: 0.6890 - val_loss: 0.6857\n",
      "Epoch 9/20\n",
      "2470/2470 [==============================] - 4s 2ms/step - loss: 0.6874 - val_loss: 0.6844\n",
      "Epoch 10/20\n",
      "2470/2470 [==============================] - 4s 2ms/step - loss: 0.6863 - val_loss: 0.6832\n",
      "Epoch 11/20\n",
      "2470/2470 [==============================] - 4s 2ms/step - loss: 0.6853 - val_loss: 0.6826\n",
      "Epoch 12/20\n",
      "2470/2470 [==============================] - 4s 2ms/step - loss: 0.6844 - val_loss: 0.6817\n",
      "Epoch 13/20\n",
      "2470/2470 [==============================] - 4s 2ms/step - loss: 0.6838 - val_loss: 0.6810\n",
      "Epoch 14/20\n",
      "2470/2470 [==============================] - 4s 2ms/step - loss: 0.6831 - val_loss: 0.6809\n",
      "Epoch 15/20\n",
      "2470/2470 [==============================] - 4s 2ms/step - loss: 0.6826 - val_loss: 0.6796\n",
      "Epoch 16/20\n",
      "2470/2470 [==============================] - 4s 2ms/step - loss: 0.6821 - val_loss: 0.6802\n",
      "Epoch 17/20\n",
      "2470/2470 [==============================] - 4s 2ms/step - loss: 0.6816 - val_loss: 0.6790\n",
      "Epoch 18/20\n",
      "2470/2470 [==============================] - 4s 2ms/step - loss: 0.6812 - val_loss: 0.6785\n",
      "Epoch 19/20\n",
      "2470/2470 [==============================] - 4s 2ms/step - loss: 0.6809 - val_loss: 0.6784\n",
      "Epoch 20/20\n",
      "2470/2470 [==============================] - 4s 2ms/step - loss: 0.6806 - val_loss: 0.6778\n",
      "0.39641094803022736\n"
     ]
    }
   ],
   "source": [
    "f = open('results/'+result_name,'a')\n",
    "\n",
    "print(\"k: %d \"%(k))\n",
    "\n",
    "DE = Denoising_Process(n, k, nb_x_classes, nb_z_classes, x, z, param_name = param_name)\n",
    "normalized_error, x_hat = DE.N_DUDE(PI_true)\n",
    "f.write(\"%d %.5f\\n\"%(k, normalized_error))\n",
    "print(normalized_error)"
   ]
  }
 ],
 "metadata": {
  "kernelspec": {
   "display_name": "Python 3",
   "language": "python",
   "name": "python3"
  },
  "language_info": {
   "codemirror_mode": {
    "name": "ipython",
    "version": 3
   },
   "file_extension": ".py",
   "mimetype": "text/x-python",
   "name": "python",
   "nbconvert_exporter": "python",
   "pygments_lexer": "ipython3",
   "version": "3.6.7"
  }
 },
 "nbformat": 4,
 "nbformat_minor": 2
}
