{
 "cells": [
  {
   "cell_type": "code",
   "execution_count": 1,
   "metadata": {},
   "outputs": [],
   "source": [
    "import numpy as np\n",
    "from numpy import *"
   ]
  },
  {
   "cell_type": "code",
   "execution_count": 2,
   "metadata": {},
   "outputs": [],
   "source": [
    "# ICML_2019/DNA_CNN/Denoising/256map\n",
    "\n",
    "def L_NEW(PI, nb_x_classes, nb_z_classes):\n",
    "    PI_INV = linalg.inv(PI)\n",
    "    RHO = np.zeros((nb_x_classes, nb_z_classes ** nb_x_classes))\n",
    "    LAMBDA = np.ones((nb_x_classes, nb_x_classes)) - np.eye(nb_x_classes)\n",
    "\n",
    "    MAP = np.ones((nb_z_classes, nb_z_classes ** nb_x_classes), dtype = int)\n",
    "    idx = 0\n",
    "    for a in range(nb_z_classes):\n",
    "        for b in range(nb_z_classes):\n",
    "            for c in range(nb_z_classes):\n",
    "                for d in range(nb_z_classes):\n",
    "                    MAP[0][idx], MAP[1][idx], MAP[2][idx], MAP[3][idx] = a, b, c, d\n",
    "    \n",
    "    \n",
    "    for i in range(nb_x_classes):\n",
    "        RHO[i] = np.matmul(PI[i],LAMBDA[i][MAP])\n",
    "\n",
    "    L = np.matmul(PI_INV, RHO)\n",
    "    L_new = -L + amax(L)\n",
    "    return L_new\n"
   ]
  },
  {
   "cell_type": "code",
   "execution_count": 3,
   "metadata": {},
   "outputs": [],
   "source": [
    "PI = array([ [ 0.8122,  0.0034,  0.0894,  0.0950],\n",
    "                  [ 0.0096,  0.8237,  0.0808,  0.0859],\n",
    "                  [ 0.1066,  0.0436,  0.7774,  0.0724],\n",
    "                  [ 0.0704,  0.0690,  0.0889,  0.7717]])\n",
    "nb_x_classes, nb_z_classes = 4, 4 \n",
    "L_new = L_NEW(PI, nb_x_classes, nb_z_classes)"
   ]
  },
  {
   "cell_type": "code",
   "execution_count": 4,
   "metadata": {},
   "outputs": [
    {
     "name": "stdout",
     "output_type": "stream",
     "text": [
      "(4, 256)\n"
     ]
    }
   ],
   "source": [
    "print(L_new.shape)"
   ]
  },
  {
   "cell_type": "code",
   "execution_count": null,
   "metadata": {},
   "outputs": [],
   "source": [
    "def Approximate_E_step(self, pred_prob): # approximate E-step & M-step\n",
    "    n, k, z, nb_x_classes, nb_z_classes = self.n, self.k, self.z, self.nb_x_classes, self.nb_z_classes\n",
    "\n",
    "    \"\"\"\n",
    "    gamma[t][j] = p(x_t = j|Z_t,C_t;w)\n",
    "    \"\"\"\n",
    "\n",
    "    # approximate E-step\n",
    "\n",
    "    MAP = np.ones((nb_z_classes, nb_z_classes ** nb_x_classes), dtype = int)\n",
    "    idx = 0\n",
    "    for a in range(nb_z_classes):\n",
    "        for b in range(nb_z_classes):\n",
    "            for c in range(nb_z_classes):\n",
    "                for d in range(nb_z_classes):\n",
    "                    MAP[0][idx], MAP[1][idx], MAP[2][idx], MAP[3][idx] = a, b, c, d\n",
    "\n",
    "    gamma = np.zeros((n-2*k, nb_x_classes))\n",
    "    for i in range(nb_z_classes):\n",
    "        gamma[:,MAP[i]] += pred_prob[:,np.arange(nb_z_classes ** nb_x_classes)]\n",
    "    return gamma"
   ]
  },
  {
   "cell_type": "code",
   "execution_count": null,
   "metadata": {},
   "outputs": [],
   "source": []
  }
 ],
 "metadata": {
  "kernelspec": {
   "display_name": "Python 3",
   "language": "python",
   "name": "python3"
  },
  "language_info": {
   "codemirror_mode": {
    "name": "ipython",
    "version": 3
   },
   "file_extension": ".py",
   "mimetype": "text/x-python",
   "name": "python",
   "nbconvert_exporter": "python",
   "pygments_lexer": "ipython3",
   "version": "3.6.7"
  }
 },
 "nbformat": 4,
 "nbformat_minor": 2
}
