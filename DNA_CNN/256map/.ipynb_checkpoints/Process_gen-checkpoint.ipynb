{
 "cells": [
  {
   "cell_type": "code",
   "execution_count": 1,
   "metadata": {},
   "outputs": [],
   "source": [
    "import numpy as np"
   ]
  },
  {
   "cell_type": "code",
   "execution_count": 2,
   "metadata": {},
   "outputs": [],
   "source": [
    "def print_process(name, gpu_cnt, parallel_cnt):\n",
    "    if (gpu_cnt + 1) % parallel_cnt != 0:\n",
    "        name = name + '&'\n",
    "    print(name)\n",
    "    gpu_cnt += 1"
   ]
  },
  {
   "cell_type": "code",
   "execution_count": 3,
   "metadata": {},
   "outputs": [
    {
     "name": "stdout",
     "output_type": "stream",
     "text": [
      "python3 DNA_ICE_CNN.ipynb --k 10 --d 0.40\n",
      "python3 DNA_ICE_CNN.ipynb --k 20 --d 0.40\n",
      "python3 DNA_ICE_CNN.ipynb --k 30 --d 0.40\n",
      "python3 DNA_ICE_CNN.ipynb --k 40 --d 0.40\n",
      "python3 DNA_ICE_CNN.ipynb --k 50 --d 0.40\n",
      "python3 DNA_ICE_CNN.ipynb --k 60 --d 0.40\n",
      "python3 DNA_ICE_CNN.ipynb --k 70 --d 0.40\n",
      "python3 DNA_ICE_CNN.ipynb --k 80 --d 0.40\n",
      "python3 DNA_ICE_CNN.ipynb --k 90 --d 0.40\n",
      "python3 DNA_ICE_CNN.ipynb --k 100 --d 0.40\n",
      "python3 DNA_ICE_CNN.ipynb --k 110 --d 0.40\n",
      "python3 DNA_ICE_CNN.ipynb --k 120 --d 0.40\n",
      "python3 DNA_ICE_CNN.ipynb --k 130 --d 0.40\n",
      "python3 DNA_ICE_CNN.ipynb --k 140 --d 0.40\n",
      "python3 DNA_ICE_CNN.ipynb --k 150 --d 0.40\n",
      "python3 DNA_ICE_CNN.ipynb --k 160 --d 0.40\n",
      "python3 DNA_ICE_CNN.ipynb --k 170 --d 0.40\n",
      "python3 DNA_ICE_CNN.ipynb --k 180 --d 0.40\n",
      "python3 DNA_ICE_CNN.ipynb --k 190 --d 0.40\n",
      "python3 DNA_ICE_CNN.ipynb --k 200 --d 0.40\n",
      "python ~/send_email.py DNA_ICE_CNN.ipynb\n"
     ]
    }
   ],
   "source": [
    "k_arr = np.arange(10,201,10)\n",
    "\n",
    "name = 'DNA_ICE_CNN.ipynb'\n",
    "\n",
    "gpu_cnt = 0\n",
    "parallel_cnt = 2\n",
    "\n",
    "for k in k_arr:\n",
    "    print('python3 '+ name + ' --k %d --d %.2f'%(k, 0.40))\n",
    "\n",
    "print('python ~/send_email.py '+ name + '/256map')"
   ]
  },
  {
   "cell_type": "code",
   "execution_count": null,
   "metadata": {},
   "outputs": [],
   "source": []
  }
 ],
 "metadata": {
  "kernelspec": {
   "display_name": "Python 3",
   "language": "python",
   "name": "python3"
  },
  "language_info": {
   "codemirror_mode": {
    "name": "ipython",
    "version": 3
   },
   "file_extension": ".py",
   "mimetype": "text/x-python",
   "name": "python",
   "nbconvert_exporter": "python",
   "pygments_lexer": "ipython3",
   "version": "3.6.7"
  }
 },
 "nbformat": 4,
 "nbformat_minor": 2
}
