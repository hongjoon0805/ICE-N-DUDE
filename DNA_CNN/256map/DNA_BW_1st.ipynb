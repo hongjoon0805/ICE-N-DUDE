{
 "cells": [
  {
   "cell_type": "code",
   "execution_count": null,
   "metadata": {},
   "outputs": [],
   "source": [
    "from core import *\n",
    "from tools import *\n",
    "import numpy as np\n",
    "import os\n",
    "import tensorflow as tf\n",
    "import keras as K\n",
    "\n",
    "import sys\n",
    "import argparse"
   ]
  },
  {
   "cell_type": "code",
   "execution_count": null,
   "metadata": {},
   "outputs": [],
   "source": [
    "try:\n",
    "    parser = argparse.ArgumentParser()\n",
    "    parser.add_argument(\"--d\", help=\"assumed delta\", type=float)\n",
    "    args = parser.parse_args()\n",
    "    \n",
    "    result_name = sys.argv[0]\n",
    "    assumed_delta = args.d\n",
    "except: # default setting\n",
    "    result_name = \"test\"\n",
    "    assumed_delta = 0.40\n"
   ]
  },
  {
   "cell_type": "code",
   "execution_count": null,
   "metadata": {},
   "outputs": [],
   "source": [
    "f = open('results/'+result_name,'a')\n",
    "\n",
    "PI_true = array([ [ 0.8122,  0.0034,  0.0894,  0.0950],\n",
    "                  [ 0.0096,  0.8237,  0.0808,  0.0859],\n",
    "                  [ 0.1066,  0.0436,  0.7774,  0.0724],\n",
    "                  [ 0.0704,  0.0690,  0.0889,  0.7717]])\n",
    "\n",
    "\n",
    "x, z = load_DNA(PI_true)\n",
    "\n",
    "n = len(x)\n",
    "\n",
    "assumed_PI = np.array([[1-assumed_delta, assumed_delta/3, assumed_delta/3, assumed_delta/3],\n",
    "                       [assumed_delta/3, 1-assumed_delta, assumed_delta/3, assumed_delta/3],\n",
    "                       [assumed_delta/3, assumed_delta/3, 1-assumed_delta, assumed_delta/3],\n",
    "                       [assumed_delta/3, assumed_delta/3, assumed_delta/3, 1-assumed_delta]])\n",
    "\n",
    "assumed_TRANS = np.array([[1-0.4, 0.4/3, 0.4/3, 0.4/3],\n",
    "                          [0.4/3, 1-0.4, 0.4/3, 0.4/3],\n",
    "                          [0.4/3, 0.4/3, 1-0.4, 0.4/3],\n",
    "                          [0.4/3, 0.4/3, 0.4/3, 1-0.4]])\n",
    "\n",
    "\"\"\"\n",
    "nb_classes = 4\n",
    "param_name = \"BW_1st_%.2f\"%assumed_delta\n",
    "\"\"\"\n",
    "\n",
    "nb_classes = 4\n",
    "param_name = \"BW_1st_%.2f\"%assumed_delta\n",
    "\n",
    "BW_1st = BW_1st_channel(n, nb_classes, x, z, param_name)\n",
    "\n",
    "# estimate the posterior\n",
    "_, _, gamma = BW_1st.Baum_Welch(assumed_TRANS, assumed_PI)\n",
    "\n",
    "# denoise the image\n",
    "normalized_error, x_hat = BW_1st.denoise(gamma)\n",
    "print(normalized_error)\n",
    "\n",
    "f.write(\"%.2f %.5f\\n\"%(assumed_delta, normalized_error))\n",
    "f.flush()\n",
    "\n",
    "f.close()"
   ]
  }
 ],
 "metadata": {
  "kernelspec": {
   "display_name": "Python 3",
   "language": "python",
   "name": "python3"
  },
  "language_info": {
   "codemirror_mode": {
    "name": "ipython",
    "version": 3
   },
   "file_extension": ".py",
   "mimetype": "text/x-python",
   "name": "python",
   "nbconvert_exporter": "python",
   "pygments_lexer": "ipython3",
   "version": "3.6.7"
  }
 },
 "nbformat": 4,
 "nbformat_minor": 2
}
