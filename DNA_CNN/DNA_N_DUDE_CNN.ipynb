{
 "cells": [
  {
   "cell_type": "code",
   "execution_count": 1,
   "metadata": {},
   "outputs": [
    {
     "name": "stderr",
     "output_type": "stream",
     "text": [
      "Using TensorFlow backend.\n"
     ]
    }
   ],
   "source": [
    "from core import *\n",
    "from tools import *\n",
    "import numpy as np\n",
    "import os\n",
    "import tensorflow as tf\n",
    "import keras as K\n",
    "\n",
    "import sys\n",
    "import argparse"
   ]
  },
  {
   "cell_type": "code",
   "execution_count": 2,
   "metadata": {},
   "outputs": [
    {
     "name": "stderr",
     "output_type": "stream",
     "text": [
      "usage: ipykernel_launcher.py [-h] [--k K]\n",
      "ipykernel_launcher.py: error: unrecognized arguments: -f /run/user/1002/jupyter/kernel-888f5a84-077d-4ecb-8309-2fa4c1286aee.json\n"
     ]
    }
   ],
   "source": [
    "PI_true = array([ [ 0.8122,  0.0034,  0.0894,  0.0950],\n",
    "                  [ 0.0096,  0.8237,  0.0808,  0.0859],\n",
    "                  [ 0.1066,  0.0436,  0.7774,  0.0724],\n",
    "                  [ 0.0704,  0.0690,  0.0889,  0.7717]])\n",
    "x, z = load_DNA(PI_true)\n",
    "\n",
    "try:\n",
    "    parser = argparse.ArgumentParser()\n",
    "    \n",
    "    parser.add_argument(\"--k\", help=\"assumed delta\", type=int)\n",
    "    \n",
    "    args = parser.parse_args()\n",
    "    \n",
    "    result_name = sys.argv[0]\n",
    "    k = args.k\n",
    "    n = len(x)\n",
    "    \n",
    "except:\n",
    "    result_name = \"test\"\n",
    "    n = int(1e4)\n",
    "    k = 150\n",
    "\n",
    "nb_x_classes, nb_z_classes = 4, 4\n",
    "param_name = 'NDUDE'\n",
    "x, z = x[:n], z[:n]"
   ]
  },
  {
   "cell_type": "code",
   "execution_count": 3,
   "metadata": {},
   "outputs": [],
   "source": [
    "os.environ[\"CUDA_DEVICE_ORDER\"]=\"PCI_BUS_ID\"\n",
    "os.environ[\"CUDA_VISIBLE_DEVICES\"]='0, 1, 2, 3'\n",
    "\n",
    "config = tf.ConfigProto()\n",
    "config.gpu_options.allow_growth = True\n",
    "session = tf.Session(config=config)\n",
    "K.backend.set_session(session)"
   ]
  },
  {
   "cell_type": "code",
   "execution_count": 4,
   "metadata": {},
   "outputs": [
    {
     "name": "stdout",
     "output_type": "stream",
     "text": [
      "k: 150 \n",
      "Train on 10 samples, validate on 10 samples\n",
      "Epoch 1/20\n",
      "10/10 [==============================] - 5s 463ms/step - loss: 0.9612 - val_loss: 0.8422\n",
      "Epoch 2/20\n",
      "10/10 [==============================] - 0s 4ms/step - loss: 0.8413 - val_loss: 0.8257\n",
      "Epoch 3/20\n",
      "10/10 [==============================] - 0s 4ms/step - loss: 0.8240 - val_loss: 0.8174\n",
      "Epoch 4/20\n",
      "10/10 [==============================] - 0s 4ms/step - loss: 0.8171 - val_loss: 0.8117\n",
      "Epoch 5/20\n",
      "10/10 [==============================] - 0s 3ms/step - loss: 0.8110 - val_loss: 0.8066\n",
      "Epoch 6/20\n",
      "10/10 [==============================] - 0s 3ms/step - loss: 0.8064 - val_loss: 0.8061\n",
      "Epoch 7/20\n",
      "10/10 [==============================] - 0s 4ms/step - loss: 0.8059 - val_loss: 0.8026\n",
      "Epoch 8/20\n",
      "10/10 [==============================] - 0s 3ms/step - loss: 0.8021 - val_loss: 0.7988\n",
      "Epoch 9/20\n",
      "10/10 [==============================] - 0s 4ms/step - loss: 0.7989 - val_loss: 0.7979\n",
      "Epoch 10/20\n",
      "10/10 [==============================] - 0s 3ms/step - loss: 0.7977 - val_loss: 0.7950\n",
      "Epoch 11/20\n",
      "10/10 [==============================] - 0s 4ms/step - loss: 0.7947 - val_loss: 0.7921\n",
      "Epoch 12/20\n",
      "10/10 [==============================] - 0s 3ms/step - loss: 0.7919 - val_loss: 0.7901\n",
      "Epoch 13/20\n",
      "10/10 [==============================] - 0s 3ms/step - loss: 0.7898 - val_loss: 0.7868\n",
      "Epoch 14/20\n",
      "10/10 [==============================] - 0s 4ms/step - loss: 0.7865 - val_loss: 0.7832\n",
      "Epoch 15/20\n",
      "10/10 [==============================] - 0s 4ms/step - loss: 0.7828 - val_loss: 0.7798\n",
      "Epoch 16/20\n",
      "10/10 [==============================] - 0s 3ms/step - loss: 0.7794 - val_loss: 0.7761\n",
      "Epoch 17/20\n",
      "10/10 [==============================] - 0s 4ms/step - loss: 0.7756 - val_loss: 0.7717\n",
      "Epoch 18/20\n",
      "10/10 [==============================] - 0s 4ms/step - loss: 0.7713 - val_loss: 0.7670\n",
      "Epoch 19/20\n",
      "10/10 [==============================] - 0s 4ms/step - loss: 0.7664 - val_loss: 0.7619\n",
      "Epoch 20/20\n",
      "10/10 [==============================] - 0s 3ms/step - loss: 0.7615 - val_loss: 0.7567\n",
      "1.020182604517059\n"
     ]
    }
   ],
   "source": [
    "f = open('results/'+result_name,'a')\n",
    "\n",
    "print(\"k: %d \"%(k))\n",
    "\n",
    "DE = Denoising_Process(n, k, nb_x_classes, nb_z_classes, x, z, param_name = param_name)\n",
    "normalized_error, x_hat = DE.N_DUDE(PI_true)\n",
    "f.write(\"%d %.5f\\n\"%(k, normalized_error))\n",
    "print(normalized_error)"
   ]
  }
 ],
 "metadata": {
  "kernelspec": {
   "display_name": "Python 3",
   "language": "python",
   "name": "python3"
  },
  "language_info": {
   "codemirror_mode": {
    "name": "ipython",
    "version": 3
   },
   "file_extension": ".py",
   "mimetype": "text/x-python",
   "name": "python",
   "nbconvert_exporter": "python",
   "pygments_lexer": "ipython3",
   "version": "3.6.7"
  }
 },
 "nbformat": 4,
 "nbformat_minor": 2
}
