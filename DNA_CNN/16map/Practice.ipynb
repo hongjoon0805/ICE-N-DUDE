{
 "cells": [
  {
   "cell_type": "code",
   "execution_count": 1,
   "metadata": {},
   "outputs": [],
   "source": [
    "import numpy as np"
   ]
  },
  {
   "cell_type": "code",
   "execution_count": 4,
   "metadata": {},
   "outputs": [],
   "source": [
    "nb_x_classes, nb_z_classes = 4, 4\n",
    "\n",
    "MAP = np.ones((nb_x_classes, nb_x_classes+1), dtype = int)\n",
    "\n",
    "for x in range(nb_x_classes):\n",
    "    for s in range(nb_x_classes+1):\n",
    "        MAP[x][s] = s - 1\n",
    "        MAP[x][0] = x"
   ]
  },
  {
   "cell_type": "code",
   "execution_count": 5,
   "metadata": {},
   "outputs": [
    {
     "name": "stdout",
     "output_type": "stream",
     "text": [
      "[[0 0 1 2 3]\n",
      " [1 0 1 2 3]\n",
      " [2 0 1 2 3]\n",
      " [3 0 1 2 3]]\n"
     ]
    }
   ],
   "source": [
    "print(MAP)"
   ]
  },
  {
   "cell_type": "code",
   "execution_count": null,
   "metadata": {},
   "outputs": [],
   "source": []
  }
 ],
 "metadata": {
  "kernelspec": {
   "display_name": "Python 3",
   "language": "python",
   "name": "python3"
  },
  "language_info": {
   "codemirror_mode": {
    "name": "ipython",
    "version": 3
   },
   "file_extension": ".py",
   "mimetype": "text/x-python",
   "name": "python",
   "nbconvert_exporter": "python",
   "pygments_lexer": "ipython3",
   "version": "3.6.7"
  }
 },
 "nbformat": 4,
 "nbformat_minor": 2
}
