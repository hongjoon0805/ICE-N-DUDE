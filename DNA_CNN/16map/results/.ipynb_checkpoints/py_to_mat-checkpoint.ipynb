{
 "cells": [
  {
   "cell_type": "code",
   "execution_count": 1,
   "metadata": {},
   "outputs": [],
   "source": [
    "import numpy as np\n",
    "import sys\n",
    "import scipy.io as sio"
   ]
  },
  {
   "cell_type": "code",
   "execution_count": 2,
   "metadata": {},
   "outputs": [],
   "source": [
    "def make_array(name):\n",
    "    \n",
    "    results = np.zeros((20, 16))\n",
    "    \n",
    "    with open(name, 'r') as f:\n",
    "        data = f.read().splitlines()\n",
    "        for i in range(len(data)):\n",
    "            arr = data[i].split()\n",
    "            k, unitN, error = int(arr[0])//10, (int(arr[1]) - 100)//20, float(arr[2])\n",
    "            results[k-1][unitN-1] = error\n",
    "    \n",
    "    return results"
   ]
  },
  {
   "cell_type": "code",
   "execution_count": 3,
   "metadata": {},
   "outputs": [],
   "source": [
    "PI_type_arr = ['A', 'B', 'C']\n",
    "for i in range(3):\n",
    "    PI_type = PI_type_arr[i]\n",
    "    \n",
    "    file = PI_type + '_DNA_results.mat'\n",
    "\n",
    "    keys = ['N-DUDE', 'ICE-N-DUDE']\n",
    "    results = [make_array(PI_type + '_DNA_N_DUDE_CNN.py'), make_array(PI_type + '_DNA_N_DUDE_CNN_finetuning.py')]\n",
    "\n",
    "    results_dict = {}\n",
    "\n",
    "    for i in range(len(keys)):\n",
    "        results_dict[keys[i]] = results[i]\n",
    "\n",
    "    sio.savemat(file, results_dict)"
   ]
  }
 ],
 "metadata": {
  "kernelspec": {
   "display_name": "Python 3",
   "language": "python",
   "name": "python3"
  },
  "language_info": {
   "codemirror_mode": {
    "name": "ipython",
    "version": 3
   },
   "file_extension": ".py",
   "mimetype": "text/x-python",
   "name": "python",
   "nbconvert_exporter": "python",
   "pygments_lexer": "ipython3",
   "version": "3.6.7"
  }
 },
 "nbformat": 4,
 "nbformat_minor": 2
}
