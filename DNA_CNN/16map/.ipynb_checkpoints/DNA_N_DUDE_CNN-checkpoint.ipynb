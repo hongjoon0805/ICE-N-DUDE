{
 "cells": [
  {
   "cell_type": "code",
   "execution_count": 1,
   "metadata": {},
   "outputs": [
    {
     "name": "stderr",
     "output_type": "stream",
     "text": [
      "Using TensorFlow backend.\n"
     ]
    }
   ],
   "source": [
    "from core import *\n",
    "from tools import *\n",
    "import numpy as np\n",
    "import os\n",
    "import tensorflow as tf\n",
    "import keras as K\n",
    "\n",
    "import sys\n",
    "import argparse"
   ]
  },
  {
   "cell_type": "code",
   "execution_count": null,
   "metadata": {},
   "outputs": [],
   "source": [
    "PI_true = array([ [ 0.8122,  0.0034,  0.0894,  0.0950],\n",
    "                  [ 0.0096,  0.8237,  0.0808,  0.0859],\n",
    "                  [ 0.1066,  0.0436,  0.7774,  0.0724],\n",
    "                  [ 0.0704,  0.0690,  0.0889,  0.7717]])\n",
    "x, z = load_DNA(PI_true)\n",
    "\n",
    "try:\n",
    "    parser = argparse.ArgumentParser()\n",
    "    \n",
    "    parser.add_argument(\"--d\", help=\"Assumed delta\", type=float)\n",
    "    parser.add_argument(\"--k\", help=\"window size k\", type=int)\n",
    "    \n",
    "    args = parser.parse_args()\n",
    "    \n",
    "    result_name = sys.argv[0]\n",
    "    k = args.k\n",
    "    assumed_delta = args.d\n",
    "    n = len(x)\n",
    "        \n",
    "except:\n",
    "    result_name = \"test\"\n",
    "    k = 150\n",
    "    assumed_delta = 0.40\n",
    "    n = int(1e4)\n",
    "    \n",
    "nb_x_classes, nb_z_classes = 4, 4\n",
    "param_name = 'NDUDE'\n",
    "x, z = x[:n], z[:n]"
   ]
  },
  {
   "cell_type": "code",
   "execution_count": 3,
   "metadata": {},
   "outputs": [],
   "source": [
    "os.environ[\"CUDA_DEVICE_ORDER\"]=\"PCI_BUS_ID\"\n",
    "os.environ[\"CUDA_VISIBLE_DEVICES\"]='0, 1, 2, 3'\n",
    "\n",
    "config = tf.ConfigProto()\n",
    "config.gpu_options.allow_growth = True\n",
    "session = tf.Session(config=config)\n",
    "K.backend.set_session(session)"
   ]
  },
  {
   "cell_type": "code",
   "execution_count": 4,
   "metadata": {},
   "outputs": [
    {
     "name": "stdout",
     "output_type": "stream",
     "text": [
      "k: 150 \n",
      "Train on 10 samples, validate on 10 samples\n",
      "Epoch 1/20\n",
      "10/10 [==============================] - 6s 561ms/step - loss: 5.6225 - activation_11_loss: 1.5489 - activation_12_loss: 1.3709 - activation_13_loss: 1.3445 - activation_14_loss: 1.3583 - val_loss: 4.8816 - val_activation_11_loss: 1.2548 - val_activation_12_loss: 1.2444 - val_activation_13_loss: 1.1548 - val_activation_14_loss: 1.2277\n",
      "Epoch 2/20\n",
      "10/10 [==============================] - 0s 3ms/step - loss: 4.8816 - activation_11_loss: 1.2548 - activation_12_loss: 1.2444 - activation_13_loss: 1.1548 - activation_14_loss: 1.2277 - val_loss: 4.7458 - val_activation_11_loss: 1.1778 - val_activation_12_loss: 1.2359 - val_activation_13_loss: 1.1348 - val_activation_14_loss: 1.1973\n",
      "Epoch 3/20\n",
      "10/10 [==============================] - 0s 2ms/step - loss: 4.7458 - activation_11_loss: 1.1778 - activation_12_loss: 1.2359 - activation_13_loss: 1.1348 - activation_14_loss: 1.1973 - val_loss: 4.7507 - val_activation_11_loss: 1.1714 - val_activation_12_loss: 1.2483 - val_activation_13_loss: 1.1358 - val_activation_14_loss: 1.1952\n",
      "Epoch 4/20\n",
      "10/10 [==============================] - 0s 2ms/step - loss: 4.7507 - activation_11_loss: 1.1714 - activation_12_loss: 1.2483 - activation_13_loss: 1.1358 - activation_14_loss: 1.1952 - val_loss: 4.7328 - val_activation_11_loss: 1.1621 - val_activation_12_loss: 1.2425 - val_activation_13_loss: 1.1320 - val_activation_14_loss: 1.1962\n",
      "Epoch 5/20\n",
      "10/10 [==============================] - 0s 2ms/step - loss: 4.7328 - activation_11_loss: 1.1621 - activation_12_loss: 1.2425 - activation_13_loss: 1.1320 - activation_14_loss: 1.1962 - val_loss: 4.6991 - val_activation_11_loss: 1.1521 - val_activation_12_loss: 1.2280 - val_activation_13_loss: 1.1244 - val_activation_14_loss: 1.1946\n",
      "Epoch 6/20\n",
      "10/10 [==============================] - 0s 2ms/step - loss: 4.6991 - activation_11_loss: 1.1521 - activation_12_loss: 1.2280 - activation_13_loss: 1.1244 - activation_14_loss: 1.1946 - val_loss: 4.6676 - val_activation_11_loss: 1.1462 - val_activation_12_loss: 1.2154 - val_activation_13_loss: 1.1167 - val_activation_14_loss: 1.1892\n",
      "Epoch 7/20\n",
      "10/10 [==============================] - 0s 3ms/step - loss: 4.6676 - activation_11_loss: 1.1462 - activation_12_loss: 1.2154 - activation_13_loss: 1.1167 - activation_14_loss: 1.1892 - val_loss: 4.6427 - val_activation_11_loss: 1.1429 - val_activation_12_loss: 1.2058 - val_activation_13_loss: 1.1110 - val_activation_14_loss: 1.1830\n",
      "Epoch 8/20\n",
      "10/10 [==============================] - 0s 3ms/step - loss: 4.6427 - activation_11_loss: 1.1429 - activation_12_loss: 1.2058 - activation_13_loss: 1.1110 - activation_14_loss: 1.1830 - val_loss: 4.6272 - val_activation_11_loss: 1.1408 - val_activation_12_loss: 1.2003 - val_activation_13_loss: 1.1078 - val_activation_14_loss: 1.1784\n",
      "Epoch 9/20\n",
      "10/10 [==============================] - 0s 3ms/step - loss: 4.6272 - activation_11_loss: 1.1408 - activation_12_loss: 1.2003 - activation_13_loss: 1.1078 - activation_14_loss: 1.1784 - val_loss: 4.6212 - val_activation_11_loss: 1.1389 - val_activation_12_loss: 1.1990 - val_activation_13_loss: 1.1069 - val_activation_14_loss: 1.1764\n",
      "Epoch 10/20\n",
      "10/10 [==============================] - 0s 3ms/step - loss: 4.6212 - activation_11_loss: 1.1389 - activation_12_loss: 1.1990 - activation_13_loss: 1.1069 - activation_14_loss: 1.1764 - val_loss: 4.6193 - val_activation_11_loss: 1.1373 - val_activation_12_loss: 1.1988 - val_activation_13_loss: 1.1072 - val_activation_14_loss: 1.1760\n",
      "Epoch 11/20\n",
      "10/10 [==============================] - 0s 3ms/step - loss: 4.6193 - activation_11_loss: 1.1373 - activation_12_loss: 1.1988 - activation_13_loss: 1.1072 - activation_14_loss: 1.1760 - val_loss: 4.6164 - val_activation_11_loss: 1.1360 - val_activation_12_loss: 1.1971 - val_activation_13_loss: 1.1072 - val_activation_14_loss: 1.1761\n",
      "Epoch 12/20\n",
      "10/10 [==============================] - 0s 3ms/step - loss: 4.6164 - activation_11_loss: 1.1360 - activation_12_loss: 1.1971 - activation_13_loss: 1.1072 - activation_14_loss: 1.1761 - val_loss: 4.6119 - val_activation_11_loss: 1.1352 - val_activation_12_loss: 1.1947 - val_activation_13_loss: 1.1061 - val_activation_14_loss: 1.1760\n",
      "Epoch 13/20\n",
      "10/10 [==============================] - 0s 3ms/step - loss: 4.6119 - activation_11_loss: 1.1352 - activation_12_loss: 1.1947 - activation_13_loss: 1.1061 - activation_14_loss: 1.1760 - val_loss: 4.6073 - val_activation_11_loss: 1.1345 - val_activation_12_loss: 1.1929 - val_activation_13_loss: 1.1045 - val_activation_14_loss: 1.1754\n",
      "Epoch 14/20\n",
      "10/10 [==============================] - 0s 3ms/step - loss: 4.6073 - activation_11_loss: 1.1345 - activation_12_loss: 1.1929 - activation_13_loss: 1.1045 - activation_14_loss: 1.1754 - val_loss: 4.6034 - val_activation_11_loss: 1.1340 - val_activation_12_loss: 1.1920 - val_activation_13_loss: 1.1030 - val_activation_14_loss: 1.1744\n",
      "Epoch 15/20\n",
      "10/10 [==============================] - 0s 3ms/step - loss: 4.6034 - activation_11_loss: 1.1340 - activation_12_loss: 1.1920 - activation_13_loss: 1.1030 - activation_14_loss: 1.1744 - val_loss: 4.6002 - val_activation_11_loss: 1.1333 - val_activation_12_loss: 1.1916 - val_activation_13_loss: 1.1021 - val_activation_14_loss: 1.1732\n",
      "Epoch 16/20\n",
      "10/10 [==============================] - 0s 2ms/step - loss: 4.6002 - activation_11_loss: 1.1333 - activation_12_loss: 1.1916 - activation_13_loss: 1.1021 - activation_14_loss: 1.1732 - val_loss: 4.5975 - val_activation_11_loss: 1.1327 - val_activation_12_loss: 1.1914 - val_activation_13_loss: 1.1015 - val_activation_14_loss: 1.1720\n",
      "Epoch 17/20\n",
      "10/10 [==============================] - 0s 2ms/step - loss: 4.5975 - activation_11_loss: 1.1327 - activation_12_loss: 1.1914 - activation_13_loss: 1.1015 - activation_14_loss: 1.1720 - val_loss: 4.5952 - val_activation_11_loss: 1.1320 - val_activation_12_loss: 1.1912 - val_activation_13_loss: 1.1011 - val_activation_14_loss: 1.1709\n",
      "Epoch 18/20\n",
      "10/10 [==============================] - 0s 2ms/step - loss: 4.5952 - activation_11_loss: 1.1320 - activation_12_loss: 1.1912 - activation_13_loss: 1.1011 - activation_14_loss: 1.1709 - val_loss: 4.5931 - val_activation_11_loss: 1.1315 - val_activation_12_loss: 1.1909 - val_activation_13_loss: 1.1006 - val_activation_14_loss: 1.1701\n",
      "Epoch 19/20\n",
      "10/10 [==============================] - 0s 2ms/step - loss: 4.5931 - activation_11_loss: 1.1315 - activation_12_loss: 1.1909 - activation_13_loss: 1.1006 - activation_14_loss: 1.1701 - val_loss: 4.5911 - val_activation_11_loss: 1.1310 - val_activation_12_loss: 1.1905 - val_activation_13_loss: 1.1001 - val_activation_14_loss: 1.1696\n",
      "Epoch 20/20\n",
      "10/10 [==============================] - 0s 2ms/step - loss: 4.5911 - activation_11_loss: 1.1310 - activation_12_loss: 1.1905 - activation_13_loss: 1.1001 - activation_14_loss: 1.1696 - val_loss: 4.5894 - val_activation_11_loss: 1.1306 - val_activation_12_loss: 1.1898 - val_activation_13_loss: 1.0996 - val_activation_14_loss: 1.1693\n",
      "1.826065411298315\n"
     ]
    }
   ],
   "source": [
    "f = open('results/'+result_name,'a')\n",
    "\n",
    "print(\"k: %d \"%(k))\n",
    "\n",
    "DE = Denoising_Process(n, k, nb_x_classes, nb_z_classes, x, z, param_name = param_name)\n",
    "normalized_error, x_hat = DE.N_DUDE(PI_true)\n",
    "f.write(\"%d %.5f\\n\"%(k, normalized_error))\n",
    "print(normalized_error)"
   ]
  }
 ],
 "metadata": {
  "kernelspec": {
   "display_name": "Python 3",
   "language": "python",
   "name": "python3"
  },
  "language_info": {
   "codemirror_mode": {
    "name": "ipython",
    "version": 3
   },
   "file_extension": ".py",
   "mimetype": "text/x-python",
   "name": "python",
   "nbconvert_exporter": "python",
   "pygments_lexer": "ipython3",
   "version": "3.6.7"
  }
 },
 "nbformat": 4,
 "nbformat_minor": 2
}
