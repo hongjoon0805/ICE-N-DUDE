{
 "cells": [
  {
   "cell_type": "code",
   "execution_count": 1,
   "metadata": {},
   "outputs": [],
   "source": [
    "import numpy as np"
   ]
  },
  {
   "cell_type": "code",
   "execution_count": 2,
   "metadata": {},
   "outputs": [],
   "source": [
    "def print_process(name, gpu_cnt, parallel_cnt):\n",
    "    if (gpu_cnt + 1) % parallel_cnt != 0:\n",
    "        name = name + '&'\n",
    "    print(name)\n",
    "    gpu_cnt += 1"
   ]
  },
  {
   "cell_type": "code",
   "execution_count": 3,
   "metadata": {},
   "outputs": [
    {
     "name": "stdout",
     "output_type": "stream",
     "text": [
      "python3 DNA_ICE_CNN.py --k 150 --d 0.01 &\n",
      "python3 DNA_ICE_CNN.py --k 150 --d 0.02 &\n",
      "python3 DNA_ICE_CNN.py --k 150 --d 0.03 &\n",
      "python3 DNA_ICE_CNN.py --k 150 --d 0.04 &\n",
      "python3 DNA_ICE_CNN.py --k 150 --d 0.05 &\n",
      "python3 DNA_ICE_CNN.py --k 150 --d 0.06 &\n",
      "python3 DNA_ICE_CNN.py --k 150 --d 0.07 &\n",
      "python3 DNA_ICE_CNN.py --k 150 --d 0.08 &\n",
      "python3 DNA_ICE_CNN.py --k 150 --d 0.09 &\n",
      "python3 DNA_ICE_CNN.py --k 150 --d 0.10 &\n",
      "python3 DNA_ICE_CNN.py --k 150 --d 0.11 &\n",
      "python3 DNA_ICE_CNN.py --k 150 --d 0.12 &\n",
      "python3 DNA_ICE_CNN.py --k 150 --d 0.13 &\n",
      "python3 DNA_ICE_CNN.py --k 150 --d 0.14 &\n",
      "python3 DNA_ICE_CNN.py --k 150 --d 0.15 &\n",
      "python3 DNA_ICE_CNN.py --k 150 --d 0.16 &\n",
      "python3 DNA_ICE_CNN.py --k 150 --d 0.17 &\n",
      "python3 DNA_ICE_CNN.py --k 150 --d 0.18 &\n",
      "python3 DNA_ICE_CNN.py --k 150 --d 0.19 &\n",
      "python3 DNA_ICE_CNN.py --k 150 --d 0.20 &\n",
      "python3 DNA_ICE_CNN.py --k 150 --d 0.21 &\n",
      "python3 DNA_ICE_CNN.py --k 150 --d 0.22 &\n",
      "python3 DNA_ICE_CNN.py --k 150 --d 0.23 &\n",
      "python3 DNA_ICE_CNN.py --k 150 --d 0.24 &\n",
      "python3 DNA_ICE_CNN.py --k 150 --d 0.25 &\n",
      "python3 DNA_ICE_CNN.py --k 150 --d 0.26 &\n",
      "python3 DNA_ICE_CNN.py --k 150 --d 0.27 &\n",
      "python3 DNA_ICE_CNN.py --k 150 --d 0.28 &\n",
      "python3 DNA_ICE_CNN.py --k 150 --d 0.29 &\n",
      "python3 DNA_ICE_CNN.py --k 150 --d 0.30 &\n",
      "python3 DNA_ICE_CNN.py --k 150 --d 0.31 &\n",
      "python3 DNA_ICE_CNN.py --k 150 --d 0.32 &\n",
      "python3 DNA_ICE_CNN.py --k 150 --d 0.33 &\n",
      "python3 DNA_ICE_CNN.py --k 150 --d 0.34 &\n",
      "python3 DNA_ICE_CNN.py --k 150 --d 0.35 &\n",
      "python3 DNA_ICE_CNN.py --k 150 --d 0.36 &\n",
      "python3 DNA_ICE_CNN.py --k 150 --d 0.37 &\n",
      "python3 DNA_ICE_CNN.py --k 150 --d 0.38 &\n",
      "python3 DNA_ICE_CNN.py --k 150 --d 0.39 &\n",
      "python3 DNA_ICE_CNN.py --k 150 --d 0.40 &\n",
      "python ~/send_email.py DNA_ICE_CNN.py\n"
     ]
    }
   ],
   "source": [
    "delta_arr = np.arange(1,41) / float(100)\n",
    "k_arr =np.arange(1,21)  * 10\n",
    "\n",
    "name = 'DNA_ICE_CNN.py'\n",
    "\n",
    "gpu_cnt = 0\n",
    "parallel_cnt = 2\n",
    "\n",
    "for delta in delta_arr:\n",
    "    print('python3 '+ name + ' --k 150 --d %.2f &'%(delta))\n",
    "\n",
    "print('python ~/send_email.py '+ name)"
   ]
  },
  {
   "cell_type": "code",
   "execution_count": null,
   "metadata": {},
   "outputs": [],
   "source": []
  }
 ],
 "metadata": {
  "kernelspec": {
   "display_name": "Python 3",
   "language": "python",
   "name": "python3"
  },
  "language_info": {
   "codemirror_mode": {
    "name": "ipython",
    "version": 3
   },
   "file_extension": ".py",
   "mimetype": "text/x-python",
   "name": "python",
   "nbconvert_exporter": "python",
   "pygments_lexer": "ipython3",
   "version": "3.6.7"
  }
 },
 "nbformat": 4,
 "nbformat_minor": 2
}
