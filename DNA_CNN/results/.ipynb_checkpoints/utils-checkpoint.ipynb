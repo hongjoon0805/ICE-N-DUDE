{
 "cells": [
  {
   "cell_type": "code",
   "execution_count": null,
   "metadata": {},
   "outputs": [],
   "source": [
    "import numpy as np\n",
    "import pandas as pd\n",
    "\n",
    "def py_to_csv(name):\n",
    "    k_arr = [10,20,30,40,50,60,70,80,90,100,110,120,130,140,150,160,170,180,190,200]\n",
    "    delta_arr = (np.arange(40)+1) / float(100)\n",
    "\n",
    "    results = {}\n",
    "    for k in k_arr:\n",
    "        results[k] = {}\n",
    "    \n",
    "    f = open(name, 'r')\n",
    "    data = f.read().splitlines()\n",
    "    for i in range(len(data)):\n",
    "        arr = data[i].split()\n",
    "        k, delta, error = int(arr[0]), float(arr[1]), float(arr[2])\n",
    "        results[k][delta] = error\n",
    "    f.close()\n",
    "    \n",
    "    df = pd.DataFrame(results)\n",
    "    df.to_csv(name[:-3]\".csv\")\n",
    "    \n",
    "\n",
    "df = pd.read_csv(\"results.csv\", index_col=0)"
   ]
  }
 ],
 "metadata": {
  "kernelspec": {
   "display_name": "Python 3",
   "language": "python",
   "name": "python3"
  },
  "language_info": {
   "codemirror_mode": {
    "name": "ipython",
    "version": 3
   },
   "file_extension": ".py",
   "mimetype": "text/x-python",
   "name": "python",
   "nbconvert_exporter": "python",
   "pygments_lexer": "ipython3",
   "version": "3.6.5"
  }
 },
 "nbformat": 4,
 "nbformat_minor": 2
}
